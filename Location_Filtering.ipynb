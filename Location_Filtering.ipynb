{
 "cells": [
  {
   "cell_type": "code",
   "execution_count": 1,
   "metadata": {
    "collapsed": true
   },
   "outputs": [],
   "source": [
    "from pyspark import SparkContext, SparkConf\n",
    "from pyspark import HiveContext\n",
    "from pyspark.sql import SQLContext\n",
    "import datetime\n",
    "import pandas as pd\n",
    "import numpy as np\n",
    "import random\n",
    "np.random.seed(5)\n",
    "confs = SparkConf()\n",
    "confs.set(\"spark.driver.maxResultSize\",\"15g\")\n",
    "confs.set(\"spark.driver.memory\",\"30g\")\n",
    "confs.set(\"spark.dynamicAllocation.enabled\",\"true\")\n",
    "confs.set(\"spark.dynamicAllocation.minExecutors\",\"1\")\n",
    "confs.set(\"spark.dynamicAllocation.maxExecutors\",\"600\")\n",
    "confs.set(\"spark.task.maxFailures\",\"15\")\n",
    "confs.set(\"spark.yarn.max.executor.failures\",\"1000\")\n",
    "confs.set(\"spark.dynamicAllocation.executorIdleTimeout\",\"400\")\n",
    "confs.set(\"spark.shuffle.service.enabled\",\"true\")\n",
    "confs.set(\"spark.executor.cores\",\"1\")\n",
    "confs.set(\"spark.executor.memory\",\"8g\")\n",
    "confs.set(\"spark.network.timeout\",\"240000\")\n",
    "confs.set(\"spark.akka.frameSize\",\"512\")\n",
    "confs.set(\"spark.yarn.dist.archives\",\"hdfs://cls04pri/user/vvelocci/RoutesNYC.zip#anaconda\")\n",
    "sc = SparkContext(conf=confs,master=\"yarn-client\",pyFiles=['hdfs://cls04pri/user/vvelocci/routes/parsers.py', 'hdfs://cls04pri/user/vvelocci/poi/objects.py', 'hdfs://cls04pri/user/vvelocci/utils/globals.py'])                               \n",
    "hc = HiveContext(sc)"
   ]
  },
  {
   "cell_type": "code",
   "execution_count": 2,
   "metadata": {
    "collapsed": true
   },
   "outputs": [],
   "source": [
    "#hc.sql(\"show databases\").collect()"
   ]
  },
  {
   "cell_type": "code",
   "execution_count": 3,
   "metadata": {},
   "outputs": [],
   "source": [
    "#import geopandas as gpd\n",
    "import folium\n",
    "from datetime import datetime\n",
    "import dateutil.parser\n",
    "import matplotlib.pyplot as plt\n",
    "%matplotlib inline\n",
    "import seaborn as sns\n",
    "from folium.plugins import MarkerCluster\n",
    "from folium.plugins import HeatMap\n",
    "import os\n",
    "import fiona\n",
    "import json\n",
    "import ast\n",
    "import parsers\n",
    "import objects as ob\n",
    "from shapely.geometry import shape, Point, asShape\n",
    "import time"
   ]
  },
  {
   "cell_type": "code",
   "execution_count": 23,
   "metadata": {
    "collapsed": true
   },
   "outputs": [],
   "source": [
    "# austin = fiona.open(\"austin/\")\n",
    "# austin_geojson = {\"type\" : \"FeatureCollection\" , \"features\" : list(austin)}\n",
    "#kcmo = fiona.open(\"kansas_city_shapefile/\")\n",
    "#kc_geojson = {\"type\" : \"FeatureCollection\" , \"features\" : list(kcmo)}"
   ]
  },
  {
   "cell_type": "code",
   "execution_count": 3,
   "metadata": {
    "collapsed": true
   },
   "outputs": [],
   "source": [
    "roads = hc.read.parquet(\"hdfs://cls04pri/user/pdannamaneni/roads_20170430\")#.sample(False, 0.1)#.select(\"saveformat\")\n",
    "#roads.count()\n",
    "# 38501164"
   ]
  },
  {
   "cell_type": "code",
   "execution_count": 4,
   "metadata": {
    "collapsed": true
   },
   "outputs": [],
   "source": [
    "kcmo = fiona.open(\"kansas_city_shapefile/kansas_city_shapefile.shp\")\n",
    "foo = kcmo.next()\n",
    "kcmo_geometry = shape(foo['geometry'])\n",
    "kcmo_simple = kcmo_geometry.buffer(0.5)\n",
    "city = sc.broadcast(kcmo_simple)"
   ]
  },
  {
   "cell_type": "code",
   "execution_count": 5,
   "metadata": {
    "collapsed": true
   },
   "outputs": [],
   "source": [
    "#kcmo_simple = kcmo_geometry.simplify(0.00025)"
   ]
  },
  {
   "cell_type": "code",
   "execution_count": 6,
   "metadata": {},
   "outputs": [
    {
     "name": "stdout",
     "output_type": "stream",
     "text": [
      "0.0808300931503 1.65584343562 637 139\n"
     ]
    }
   ],
   "source": [
    "print kcmo_geometry.area, kcmo_simple.area, len(kcmo_geometry.exterior.coords), len(kcmo_simple.exterior.coords)"
   ]
  },
  {
   "cell_type": "code",
   "execution_count": 7,
   "metadata": {},
   "outputs": [
    {
     "data": {
      "text/plain": [
       "1.5750133424678294"
      ]
     },
     "execution_count": 7,
     "metadata": {},
     "output_type": "execute_result"
    }
   ],
   "source": [
    "kcmo_simple.area - kcmo_geometry.area"
   ]
  },
  {
   "cell_type": "code",
   "execution_count": 8,
   "metadata": {
    "scrolled": true
   },
   "outputs": [
    {
     "data": {
      "image/svg+xml": [
       "<svg xmlns=\"http://www.w3.org/2000/svg\" xmlns:xlink=\"http://www.w3.org/1999/xlink\" width=\"100.0\" height=\"100.0\" viewBox=\"-95.3233911085 38.2690339138 1.49618814818 1.64742609334\" preserveAspectRatio=\"xMinYMin meet\"><g transform=\"matrix(1,0,0,-1,0,78.185493921)\"><path fill-rule=\"evenodd\" fill=\"#66cc99\" stroke=\"#555555\" stroke-width=\"0.0329485218668\" opacity=\"0.6\" d=\"M -95.2513111336,39.3881332595 L -95.2503322426,39.396398577 L -95.2398984042,39.4440619696 L -95.2248685954,39.4904814571 L -95.2154913584,39.5120122519 L -95.2086528144,39.5299904045 L -95.1873899133,39.5729696053 L -95.162107721,39.6137143402 L -95.1573908599,39.6205599591 L -95.1287945379,39.6581326821 L -95.1282084797,39.6587680722 L -95.116733633,39.6741373131 L -95.0832473224,39.710764942 L -95.0462949439,39.7438925426 L -95.00624054,39.7731937528 L -94.9634787132,39.798379907 L -94.9184307387,39.8192028797 L -94.871540414,39.8354575298 L -94.823269687,39.846983722 L -94.7740941046,39.8536679042 L -94.7244981282,39.8554442259 L -94.6544606398,39.8544743108 L -94.6061201245,39.8514587424 L -94.5582981852,39.8437801227 L -94.5114435639,39.8315105045 L -94.4852691465,39.8218663672 L -94.4654609643,39.8176850223 L -94.4595708605,39.8171113455 L -94.4497544983,39.81615439 L -94.4036168434,39.8094729901 L -94.3583020147,39.798523533 L -94.3397065164,39.7921466728 L -94.3310032829,39.790065329 L -94.3271919732,39.7887619699 L -94.314060646,39.7855316235 L -94.2708537555,39.7706030984 L -94.2659844248,39.76866725 L -94.2212358336,39.7482746268 L -94.1787069085,39.7235848308 L -94.1388090396,39.6948366908 L -94.1351675617,39.6919304546 L -94.0975688781,39.6587018683 L -94.0634899928,39.6218721312 L -94.0332741211,39.581812163 L -94.0072255729,39.5389254157 L -93.9856066885,39.4936438102 L -93.9686351959,39.4464233867 L -93.9592964309,39.4090137949 L -93.9527440463,39.3971716918 L -93.9327316535,39.3502791307 L -93.91759866,39.30159237 L -93.9075024133,39.2516176368 L -93.9025478905,39.20087455 L -93.9027866067,39.1498907175 L -93.9028332909,39.149454832 L -93.8970393836,39.1256381494 L -93.8901274527,39.076003443 L -93.8882187416,39.0259261459 L -93.8882631155,39.0222401133 L -93.8883680482,39.0138136407 L -93.8884791746,39.0046926704 L -93.8885238861,39.0010217344 L -93.8886132506,38.9936849986 L -93.8887024737,38.9863602654 L -93.8887915078,38.979045629 L -93.88888045,38.9717395532 L -93.8889248325,38.9680915397 L -93.8890136359,38.9607965085 L -93.889057951,38.9571548903 L -93.892195269,38.9069872229 L -93.9003537806,38.8573880667 L -93.9134510314,38.808858698 L -93.9313546534,38.7618895813 L -93.9435862257,38.7374937212 L -93.956708256,38.6899190007 L -93.9578967728,38.6863501735 L -93.9756749147,38.6405933372 L -93.9978542927,38.5968003515 L -94.0242211196,38.5553933372 L -94.0545212457,38.5167714164 L -94.0884626078,38.4813068659 L -94.1257180452,38.4493415287 L -94.1659284527,38.4211835186 L -94.2087062421,38.3971042508 L -94.2536390781,38.3773358253 L -94.2583017996,38.3755521714 L -94.3016293836,38.3612080956 L -94.3460844321,38.35087462 L -94.3912965398,38.3446378445 L -94.4368889937,38.3425497347 L -94.4461702875,38.342548701 L -94.4507773056,38.3425478384 L -94.4601730502,38.3401348295 L -94.5097904743,38.3325867668 L -94.5599146331,38.3300508776 L -94.5633957983,38.3300496951 L -94.612227405,38.3324232669 L -94.6605937743,38.339554465 L -94.7080324927,38.3513751104 L -94.7540900157,38.3677721903 L -94.7983260041,38.388588938 L -94.8223366508,38.4029052545 L -94.8253582758,38.4042585659 L -94.8288688221,38.40603349 L -94.8719732581,38.4305843687 L -94.912432822,38.4592856183 L -94.9498492724,38.4918547339 L -94.9838543208,38.5279711391 L -95.0141132573,38.5672793419 L -95.0403282446,38.6093924336 L -95.0622412497,38.6538958969 L -95.079636584,38.7003516865 L -95.0923430262,38.7483025403 L -95.1002355072,38.7972764802 L -95.1032363418,38.8467914581 L -95.1033336241,38.8557125184 L -95.1034311497,38.8646489553 L -95.1034782614,38.8689662734 L -95.1048244054,38.8851980556 L -95.1048641016,38.8887920548 L -95.1049038273,38.8923889246 L -95.1049437165,38.8960239765 L -95.104993563,38.9007698855 L -95.1049171804,38.9033332148 L -95.1313773789,38.932283017 L -95.161397424,38.9726109889 L -95.1872158869,39.0157497811 L -95.1873905444,39.0161220102 L -95.1938969785,39.0262071028 L -95.2161020135,39.0692780028 L -95.2340334212,39.1142961172 L -95.2353573386,39.1181540334 L -95.2493222657,39.166713537 L -95.2583149585,39.2164345191 L -95.2622435819,39.2668092201 L -95.2623753273,39.2716371681 L -95.261158058,39.322710814 L -95.2547354413,39.3733936418 L -95.2513111336,39.3881332595 z\" /></g></svg>"
      ],
      "text/plain": [
       "<shapely.geometry.polygon.Polygon at 0x7feddbe77310>"
      ]
     },
     "execution_count": 8,
     "metadata": {},
     "output_type": "execute_result"
    }
   ],
   "source": [
    "kcmo_simple"
   ]
  },
  {
   "cell_type": "code",
   "execution_count": 9,
   "metadata": {
    "collapsed": true
   },
   "outputs": [],
   "source": [
    "g = Point(39.093468,-94.418866)"
   ]
  },
  {
   "cell_type": "code",
   "execution_count": 10,
   "metadata": {},
   "outputs": [
    {
     "data": {
      "text/plain": [
       "False"
      ]
     },
     "execution_count": 10,
     "metadata": {},
     "output_type": "execute_result"
    }
   ],
   "source": [
    "kcmo_simple.intersects(g)"
   ]
  },
  {
   "cell_type": "code",
   "execution_count": 11,
   "metadata": {
    "collapsed": true
   },
   "outputs": [],
   "source": [
    "def geom_location2(x):\n",
    "    geometries = x[1]\n",
    "    geometries = [geometry for geometry in geometries if geometry['properties']['geom_type'] == 'Location']\n",
    "    return (x[0], geometries)\n",
    "def in_kcmo2(x):\n",
    "    geometries = x[1]\n",
    "    user = x[0]\n",
    "    geometries = [geometry for geometry in geometries if asShape(geometry['geometry']).intersects(city.value)]\n",
    "    return (user, geometries)\n",
    "def combine(a,b):\n",
    "    a.extend(b)\n",
    "    return a"
   ]
  },
  {
   "cell_type": "code",
   "execution_count": 12,
   "metadata": {
    "collapsed": true
   },
   "outputs": [],
   "source": [
    "# Filtering locations to those in KCMO, while keeping sub_id.  ReduceByKey on sub_id.  Used to generate a pickle file\n",
    "roads_list = roads.map(list).map(lambda x: (x[1], ast.literal_eval(x[0])['locations'])).map(geom_location2).map(in_kcmo2).filter(lambda x: len(x[1]) > 0).reduceByKey(combine)"
   ]
  },
  {
   "cell_type": "code",
   "execution_count": 13,
   "metadata": {
    "collapsed": true
   },
   "outputs": [],
   "source": [
    "import pickle\n",
    "with open('kcmo_locations_with_subid.pickle', 'wb') as handle:\n",
    "    pickle.dump(roads_list.collect(), handle)"
   ]
  },
  {
   "cell_type": "code",
   "execution_count": 15,
   "metadata": {
    "collapsed": true
   },
   "outputs": [],
   "source": [
    "roads_list.saveAsTextFile(\"hdfs://cls04pri/user/vvelocci/locations_in_kcmo_by_subid.txt\")"
   ]
  },
  {
   "cell_type": "code",
   "execution_count": null,
   "metadata": {
    "collapsed": true
   },
   "outputs": [],
   "source": [
    "#---------------------------MISC STUFF BELOW--------------------------------"
   ]
  },
  {
   "cell_type": "code",
   "execution_count": null,
   "metadata": {
    "collapsed": true
   },
   "outputs": [],
   "source": []
  },
  {
   "cell_type": "code",
   "execution_count": null,
   "metadata": {
    "collapsed": true
   },
   "outputs": [],
   "source": []
  },
  {
   "cell_type": "code",
   "execution_count": null,
   "metadata": {
    "collapsed": true
   },
   "outputs": [],
   "source": []
  },
  {
   "cell_type": "code",
   "execution_count": null,
   "metadata": {
    "collapsed": true
   },
   "outputs": [],
   "source": []
  },
  {
   "cell_type": "code",
   "execution_count": null,
   "metadata": {
    "collapsed": true
   },
   "outputs": [],
   "source": []
  },
  {
   "cell_type": "code",
   "execution_count": null,
   "metadata": {
    "collapsed": true
   },
   "outputs": [],
   "source": []
  },
  {
   "cell_type": "code",
   "execution_count": null,
   "metadata": {
    "collapsed": true
   },
   "outputs": [],
   "source": []
  },
  {
   "cell_type": "code",
   "execution_count": null,
   "metadata": {
    "collapsed": true
   },
   "outputs": [],
   "source": []
  },
  {
   "cell_type": "code",
   "execution_count": null,
   "metadata": {
    "collapsed": true
   },
   "outputs": [],
   "source": []
  },
  {
   "cell_type": "code",
   "execution_count": null,
   "metadata": {
    "collapsed": true
   },
   "outputs": [],
   "source": [
    "# sum = 0\n",
    "# for entry in roads_list.collect():\n",
    "#     sum += len(entry[1])\n",
    "# sum\n",
    "# #1012366"
   ]
  },
  {
   "cell_type": "code",
   "execution_count": 80,
   "metadata": {
    "collapsed": true
   },
   "outputs": [],
   "source": [
    "# Converting to shapely objects and filtering them.  Not used to generate the pickle file (doesn't work).\n",
    "from shapely.geometry import asShape\n",
    "city = sc.broadcast(kcmo_simple)\n",
    "def in_kcmo(x):\n",
    "    if x.intersects(city.value):\n",
    "        return True\n",
    "    return False\n",
    "def geom_location(x):\n",
    "    if x['properties']['geom_type'] == 'Location':\n",
    "        return True\n",
    "    return False\n",
    "roads_list = roads.map(list).map(lambda x: ast.literal_eval(x[0])).flatMap(lambda x: x['locations']).filter(geom_location).map(lambda x: asShape(x['geometry'])).filter(lambda x: in_kcmo(x))"
   ]
  },
  {
   "cell_type": "code",
   "execution_count": 9,
   "metadata": {
    "collapsed": true
   },
   "outputs": [],
   "source": [
    "# Converting to shapely objects, filtering them, then converting back to geojson.  Used to generate the pickle file.\n",
    "from shapely.geometry import asShape\n",
    "city = sc.broadcast(kcmo_simple)\n",
    "def in_kcmo(x):\n",
    "    if x.intersects(city.value):\n",
    "        return True\n",
    "    return False\n",
    "def geom_location(x):\n",
    "    if x['properties']['geom_type'] == 'Location':\n",
    "        return True\n",
    "    return False\n",
    "roads_list = roads.map(list).map(lambda x: ast.literal_eval(x[0])).flatMap(lambda x: x['locations']).filter(geom_location).map(lambda x: (x,asShape(x['geometry']))).filter(lambda x: in_kcmo(x[1])).map(lambda x: x[0])"
   ]
  },
  {
   "cell_type": "code",
   "execution_count": 85,
   "metadata": {
    "collapsed": true
   },
   "outputs": [],
   "source": [
    "start_time = time.time()\n",
    "x = roads_list.count()\n",
    "elapsed_time = time.time() - start_time"
   ]
  },
  {
   "cell_type": "code",
   "execution_count": 83,
   "metadata": {
    "collapsed": true
   },
   "outputs": [],
   "source": [
    "# x, elapsed_time full sample\n",
    "# (1012366, 1441.9119019508362)"
   ]
  },
  {
   "cell_type": "code",
   "execution_count": 76,
   "metadata": {
    "collapsed": true
   },
   "outputs": [],
   "source": [
    "#x, elapsed_time\n",
    "#(843130, 484.6640930175781)"
   ]
  },
  {
   "cell_type": "code",
   "execution_count": 87,
   "metadata": {
    "collapsed": true
   },
   "outputs": [],
   "source": [
    "import pickle\n",
    "with open('kcmo_locations.pickle', 'wb') as handle:\n",
    "    pickle.dump(roads_list.collect(), handle)"
   ]
  },
  {
   "cell_type": "code",
   "execution_count": 88,
   "metadata": {
    "collapsed": true
   },
   "outputs": [],
   "source": [
    "file = open(\"kcmo_locations.pickle\",'r')\n",
    "locations = pickle.load(file)"
   ]
  },
  {
   "cell_type": "code",
   "execution_count": 98,
   "metadata": {},
   "outputs": [
    {
     "data": {
      "text/plain": [
       "1012366"
      ]
     },
     "execution_count": 98,
     "metadata": {},
     "output_type": "execute_result"
    }
   ],
   "source": [
    "len(locations)"
   ]
  },
  {
   "cell_type": "code",
   "execution_count": 95,
   "metadata": {
    "collapsed": true
   },
   "outputs": [],
   "source": [
    "roads_list.saveAsTextFile(\"hdfs://cls04pri/user/vvelocci/locations_in_kcmo.txt\")"
   ]
  },
  {
   "cell_type": "code",
   "execution_count": 97,
   "metadata": {
    "collapsed": true
   },
   "outputs": [],
   "source": [
    "# n = 40000000\n",
    "# numbers = list(range(n))\n",
    "# i = -1\n",
    "# def labels():\n",
    "#     global i\n",
    "#     global numbers\n",
    "#     i += 1\n",
    "#     return str(numbers[i])\n",
    "# city = sc.broadcast(kcmo_simple)\n",
    "# def in_kcmo(x):\n",
    "#     if x.intersects(city.value):\n",
    "#         return True\n",
    "#     return False\n",
    "# def geom_location(x):\n",
    "#     if x['properties']['geom_type'] == 'Location':\n",
    "#         return True\n",
    "#     return False\n",
    "# roads_list2 = roads_list.map(list).map(lambda x: ast.literal_eval(x[0])).flatMap(lambda x: x['locations']).filter(geom_location).map(lambda x: ob.Shape(labels(), x)).filter(lambda x: in_kcmo(x.geometry))\n",
    "# #n = roads_list.count()\n",
    "# # numbers = list(range(n))\n",
    "# # i = -1\n",
    "# # def labels():\n",
    "# #     global i\n",
    "# #     global numbers\n",
    "# #     i += 1\n",
    "# #     return str(numbers[i])\n",
    "# # city = sc.broadcast(kcmo_simple)\n",
    "# # def in_kcmo(x):\n",
    "# #     if x.intersects(city.value):\n",
    "# #         return True\n",
    "# #     return False\n",
    "# # locations_rdd = roads_list.map(lambda x: ob.Shape(labels(), x))\n",
    "# # final_locations = locations_rdd.filter(lambda x: in_kcmo(x.geometry))\n",
    "# start_time = time.time()\n",
    "# x = roads_list2.count()\n",
    "# elapsed_time = time.time() - start_time"
   ]
  },
  {
   "cell_type": "code",
   "execution_count": 35,
   "metadata": {
    "collapsed": true
   },
   "outputs": [],
   "source": [
    "# #kansas_city = ob.Shape('kcmo', kc_geojson['features'][0])\n",
    "# city = sc.broadcast(kcmo_simple)\n",
    "# locations_rdd2 = locations_rdd.map(lambda x: (x,ob.Shape(labels(), x)))\n",
    "# def in_kcmo(x):\n",
    "#     if x.intersects(city.value):\n",
    "#         return True\n",
    "#     return False\n",
    "# final_locations = locations_rdd2.filter(lambda x: not in_kcmo(x[1].geometry))\n",
    "# locations_in_kcmo = final_locations.map(lambda x: x[0])\n",
    "# shapes_in_kcmo = final_locations.map(lambda x: x[1])\n",
    "# #locations_in_kcmo.cache()"
   ]
  },
  {
   "cell_type": "code",
   "execution_count": null,
   "metadata": {
    "collapsed": true
   },
   "outputs": [],
   "source": [
    "#locations_rdd.unpersist()"
   ]
  },
  {
   "cell_type": "code",
   "execution_count": null,
   "metadata": {
    "collapsed": true
   },
   "outputs": [],
   "source": [
    "#data_sample = hc.read.parquet(\"data_sample\")"
   ]
  },
  {
   "cell_type": "code",
   "execution_count": null,
   "metadata": {
    "collapsed": true
   },
   "outputs": [],
   "source": [
    "# sample = roads.sample(False,0.0000001)\n",
    "# sample.cache()"
   ]
  },
  {
   "cell_type": "code",
   "execution_count": null,
   "metadata": {
    "collapsed": true
   },
   "outputs": [],
   "source": [
    "# from ctypes import *\n",
    "# CDLL('hdfs://cls04pri/user/vvelocci/anaconda2/lib/')"
   ]
  },
  {
   "cell_type": "code",
   "execution_count": 11,
   "metadata": {
    "collapsed": true
   },
   "outputs": [],
   "source": [
    "#data = hc.read.parquet(\"hdfs://cls04pri/user/pdannamaneni/roads_20170430\")\n",
    "#data_sample = data.sample(False,0.001).select(\"saveformat\")\n",
    "#data_sample.cache()\n",
    "#data_sample.count()\n",
    "# 38585\n",
    "#data_sample.coalesce(30).write.parquet(\"hdfs://cls04pri/user/vvelocci/data_sample\")"
   ]
  },
  {
   "cell_type": "code",
   "execution_count": 3,
   "metadata": {
    "collapsed": true
   },
   "outputs": [],
   "source": [
    "#data_sample = hc.read.parquet(\"data_sample\")"
   ]
  },
  {
   "cell_type": "code",
   "execution_count": null,
   "metadata": {
    "collapsed": true
   },
   "outputs": [],
   "source": [
    "\"\"\"\n",
    "If you were using one of those shapefiles I linked too (there are a few options at different detail levels), \n",
    "you would download the zip, unzip it, and then load it with your package of choice (geopandas, fiona, pyshp, osgeo).\n",
    "Personally, I’m a fan of geopandas.  Here’s how to pick out MD and VA using geopandas and save to a new shapefile:\n",
    "import geopandas as gpd\n",
    "states = gpd.read_file('/Users/alanschoen/Downloads/cb_2016_us_state_500k/cb_2016_us_state_500k.shp')\n",
    "just_md_va = states[states.STUSPS.isin(['MD', 'VA'])]\n",
    "just_md_va.to_file('just_md_va.shp', driver='ESRI Shapefile')\n",
    "\"\"\""
   ]
  },
  {
   "cell_type": "code",
   "execution_count": 6,
   "metadata": {
    "collapsed": true
   },
   "outputs": [],
   "source": [
    "#Convert Austin shapefile directory into geojson (or use method Alan provided for whole states)\n",
    "#Filter roads_20170430 that only pass through Austin using Austin shapefile.\n",
    "#Filter TX POI data that only passes through Austin.\n",
    "#Maybe classify according to two methods:\n",
    "# Method 1: Label the POI dataset, then use KNN for the location points.  Select K by dividing the labeled POI dataset\n",
    "# into train and test sets, training on each K value and testing.\n",
    "# Method 2: Classify on the clusters.  Cluster the location data according to the model from Prash and Jared, then\n",
    "# apply KNN with the labeled POI set.\n",
    "# But how do I label the POI dataset??"
   ]
  },
  {
   "cell_type": "code",
   "execution_count": 10,
   "metadata": {
    "collapsed": true
   },
   "outputs": [],
   "source": [
    "# states = gpd.read_file('/home/vvelocci/Classification/cb_2016_us_state_500k/cb_2016_us_state_500k.shp')\n",
    "# tx = states[states.STUSPS.isin(['TX'])]\n",
    "# mo = states[states.STUSPS.isin(['MO'])]\n",
    "# ny = states[states.STUSPS.isin(['NY'])]\n",
    "# tx.to_file('/home/vvelocci/Classification/tx/tx.shp', driver='ESRI Shapefile')\n",
    "# mo.to_file('/home/vvelocci/Classification/mo/mo.shp', driver='ESRI Shapefile')\n",
    "# ny.to_file('/home/vvelocci/Classification/ny/ny.shp', driver='ESRI Shapefile')"
   ]
  },
  {
   "cell_type": "code",
   "execution_count": 22,
   "metadata": {
    "collapsed": true
   },
   "outputs": [],
   "source": [
    "#poi_tx = pd.read_csv('IYP_TX.afi.txt', sep=\" \", header = None)"
   ]
  },
  {
   "cell_type": "code",
   "execution_count": null,
   "metadata": {
    "collapsed": true
   },
   "outputs": [],
   "source": []
  }
 ],
 "metadata": {
  "kernelspec": {
   "display_name": "Python 2",
   "language": "python",
   "name": "python2"
  },
  "language_info": {
   "codemirror_mode": {
    "name": "ipython",
    "version": 2
   },
   "file_extension": ".py",
   "mimetype": "text/x-python",
   "name": "python",
   "nbconvert_exporter": "python",
   "pygments_lexer": "ipython2",
   "version": "2.7.13"
  }
 },
 "nbformat": 4,
 "nbformat_minor": 2
}
