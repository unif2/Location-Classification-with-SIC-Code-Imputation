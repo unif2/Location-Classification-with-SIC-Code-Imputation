{
 "cells": [
  {
   "cell_type": "code",
   "execution_count": 1,
   "metadata": {
    "collapsed": true
   },
   "outputs": [],
   "source": [
    "from pyspark import SparkContext, SparkConf\n",
    "from pyspark import HiveContext\n",
    "from pyspark.sql import SQLContext\n",
    "import datetime\n",
    "import pandas as pd\n",
    "import numpy as np\n",
    "import random\n",
    "np.random.seed(5)\n",
    "confs = SparkConf()\n",
    "confs.set(\"spark.driver.maxResultSize\",\"15g\")\n",
    "confs.set(\"spark.driver.memory\",\"30g\")\n",
    "confs.set(\"spark.dynamicAllocation.enabled\",\"true\")\n",
    "confs.set(\"spark.dynamicAllocation.minExecutors\",\"1\")\n",
    "confs.set(\"spark.dynamicAllocation.maxExecutors\",\"600\")\n",
    "confs.set(\"spark.task.maxFailures\",\"15\")\n",
    "confs.set(\"spark.yarn.max.executor.failures\",\"1000\")\n",
    "confs.set(\"spark.dynamicAllocation.executorIdleTimeout\",\"400\")\n",
    "confs.set(\"spark.shuffle.service.enabled\",\"true\")\n",
    "confs.set(\"spark.executor.cores\",\"1\")\n",
    "confs.set(\"spark.executor.memory\",\"8g\")\n",
    "confs.set(\"spark.network.timeout\",\"240000\")\n",
    "confs.set(\"spark.akka.frameSize\",\"512\")\n",
    "confs.set(\"spark.yarn.dist.archives\",\"hdfs://cls04pri/user/vvelocci/RoutesNYC.zip#anaconda\")\n",
    "sc = SparkContext(conf=confs,master=\"yarn-client\",pyFiles=['hdfs://cls04pri/user/vvelocci/pyproj-1.9.5.1/lib/pyproj/data/epsg', 'hdfs://cls04pri/user/vvelocci/pyproj-1.9.5.1-py2.7-linux-x86_64.egg-tmp/pyproj/_proj.so'])                            \n",
    "hc = HiveContext(sc)"
   ]
  },
  {
   "cell_type": "code",
   "execution_count": 2,
   "metadata": {
    "collapsed": true
   },
   "outputs": [],
   "source": [
    "import pickle\n",
    "from shapely.geometry import shape, Point, asShape, Polygon, LineString\n",
    "import fiona\n",
    "from operator import add\n",
    "import matplotlib.pyplot as plt\n",
    "%matplotlib inline\n",
    "from ast import literal_eval\n",
    "import collections\n",
    "import pyproj\n",
    "from pyproj import Proj\n",
    "from geopy.distance import vincenty\n",
    "from collections import Counter\n",
    "from datetime import datetime\n",
    "from dateutil.parser import parse"
   ]
  },
  {
   "cell_type": "code",
   "execution_count": 12,
   "metadata": {
    "collapsed": true
   },
   "outputs": [],
   "source": [
    "file = open(\"poi_with_industry_code_with_imputed.pickle\",'r')\n",
    "poi = pickle.load(file)"
   ]
  },
  {
   "cell_type": "code",
   "execution_count": 4,
   "metadata": {
    "collapsed": true
   },
   "outputs": [],
   "source": [
    "# def form_buffer(centroid, distance):\n",
    "#     srcProj = pyproj.Proj(init='epsg/EPSG:4326')\n",
    "#     dstProj = pyproj.Proj(init='epsg/EPSG:5070')\n",
    "#     #srcProj = pyproj.Proj(init='EPSG:4326')\n",
    "#     #dstProj = pyproj.Proj(init='EPSG:5070')\n",
    "#     pt1 = list(centroid.coords)[0]\n",
    "#     x, y = pyproj.transform(srcProj, dstProj, pt1[0], pt1[1])\n",
    "#     pt = Point(x,y)\n",
    "#     buf = pt.buffer(distance)\n",
    "#     buffer_points =  zip(buf.exterior.coords.xy[0], buf.exterior.coords.xy[1])\n",
    "#     proj_buffer_points = []\n",
    "#     for point in buffer_points:\n",
    "#         x = point[0]\n",
    "#         y = point[1]\n",
    "#         x, y = pyproj.transform(dstProj, srcProj, x, y)\n",
    "#         proj_buffer_points.append((x, y))\n",
    "\n",
    "#     #print Polygon(proj_buffer_points)\n",
    "#     #print Polygon(proj_buffer_points).intersects(Point(pt1))\n",
    "#     #print Polygon(proj_buffer_points).contains(Point(pt1))\n",
    "#     return Polygon(proj_buffer_points)"
   ]
  },
  {
   "cell_type": "code",
   "execution_count": 5,
   "metadata": {
    "collapsed": true
   },
   "outputs": [],
   "source": [
    "# centroid = (-94.56097259792114, 39.10808543024518)\n",
    "# def form_buffer(centroid, distance):\n",
    "#     import os\n",
    "#     os.environ['PYTHON_EGG_CACHE'] = './.python-eggs/'\n",
    "#     os.environ['PYTHON_EGG_DIR']='./.python-eggs/'\n",
    "#     pyproj.set_datapath('hdfs://cls04pri/user/vvelocci/pyproj-1.9.5.1/')\n",
    "#     #from mpl_toolkits.basemap import pyproj as pyproj\n",
    "#     srcProj = pyproj.Proj(init='/lib/pyproj/data/EPSG:4326')\n",
    "#     dstProj = pyproj.Proj(init='/lib/pyproj/data/EPSG:5070')\n",
    "#     #srcProj = pyproj.Proj(init='./EPSG:4326')\n",
    "#     #dstProj = pyproj.Proj(init='./EPSG:5070')\n",
    "#     #srcProj = pyproj.Proj(init='EPSG:4326')\n",
    "#     #dstProj = pyproj.Proj(init='EPSG:5070')\n",
    "#     pt1 = centroid\n",
    "#     x, y = pyproj.transform(srcProj, dstProj, pt1[0], pt1[1])\n",
    "#     pt = Point(x,y)\n",
    "#     buf = pt.buffer(distance)\n",
    "#     buffer_points =  zip(buf.exterior.coords.xy[0], buf.exterior.coords.xy[1])\n",
    "#     proj_buffer_points = []\n",
    "#     for point in buffer_points:\n",
    "#         x = point[0]\n",
    "#         y = point[1]\n",
    "#         x, y = pyproj.transform(dstProj, srcProj, x, y)\n",
    "#         proj_buffer_points.append((x, y))\n",
    "\n",
    "#     #print Polygon(proj_buffer_points)\n",
    "#     #print Polygon(proj_buffer_points).intersects(Point(pt1))\n",
    "#     #print Polygon(proj_buffer_points).contains(Point(pt1))\n",
    "#     return Polygon(proj_buffer_points)\n",
    "\n",
    "# buf = form_buffer(centroid, 2.0)\n",
    "# rdd = sc.parallelize([(-94.56097259792114, 39.10808543024518)])\n",
    "# rdd2 = rdd.map(lambda x: form_buffer(x, 2.0)).collect()"
   ]
  },
  {
   "cell_type": "code",
   "execution_count": 13,
   "metadata": {
    "collapsed": true
   },
   "outputs": [],
   "source": [
    "poi = sc.parallelize(poi)\n",
    "#poi = sc.textFile(\"hdfs://cls04pri/user/vvelocci/IYP_MO.afi.txt\")\n",
    "#kcmo_lines = poi.filter(lambda line: 'Kansas City' in line)\n",
    "poi.getNumPartitions() # Result: 2\n",
    "# After filtering a large dataset into a small dataset, it is good to coalesce to reduce\n",
    "# the number of partitions and then cache:\n",
    "# poi = poi.coalesce(n).cache(), where n is smaller than result of poi.getNumPartitions().  Since we have 2\n",
    "# partitons already, we will just keep it as 2\n",
    "poi = poi.cache()\n",
    "# You can also do poi.persist(StorageLevel.MEMORY_AND_DISK).  This means that if there is not enough space \n",
    "# to cache new RDD partitions, Spark drops RDD partitions to disk and simply reads them back to memory \n",
    "# from a local store if they are needed again. This can be much cheaper than recomputing blocks and \n",
    "# can lead to more pre‐ dictable performance. This is particularly useful if your RDD partitions are \n",
    "# very expensive to recompute."
   ]
  },
  {
   "cell_type": "code",
   "execution_count": 5,
   "metadata": {},
   "outputs": [
    {
     "data": {
      "text/plain": [
       "[(u'2494',\n",
       "  [37.8502,\n",
       "   -90.5211,\n",
       "   u'Mufflers & Exhaust Systems',\n",
       "   u'I',\n",
       "   7539,\n",
       "   u'75390400',\n",
       "   u'55310103',\n",
       "   u'75490000',\n",
       "   u'55310101'])]"
      ]
     },
     "execution_count": 5,
     "metadata": {},
     "output_type": "execute_result"
    }
   ],
   "source": [
    "poi.take(1)"
   ]
  },
  {
   "cell_type": "code",
   "execution_count": 14,
   "metadata": {
    "collapsed": true
   },
   "outputs": [],
   "source": [
    "kcmo = fiona.open(\"kansas_city_shapefile/kansas_city_shapefile.shp\")\n",
    "foo = kcmo.next()\n",
    "kcmo_geometry = shape(foo['geometry'])\n",
    "kcmo_simple = kcmo_geometry.buffer(0.5)#.simplify(0.000000025)\n",
    "city = sc.broadcast(kcmo_simple)"
   ]
  },
  {
   "cell_type": "code",
   "execution_count": 15,
   "metadata": {},
   "outputs": [
    {
     "data": {
      "text/plain": [
       "1.5750133424678294"
      ]
     },
     "execution_count": 15,
     "metadata": {},
     "output_type": "execute_result"
    }
   ],
   "source": [
    "kcmo_simple.area - kcmo_geometry.area"
   ]
  },
  {
   "cell_type": "code",
   "execution_count": 16,
   "metadata": {},
   "outputs": [
    {
     "data": {
      "image/svg+xml": [
       "<svg xmlns=\"http://www.w3.org/2000/svg\" xmlns:xlink=\"http://www.w3.org/1999/xlink\" width=\"100.0\" height=\"100.0\" viewBox=\"-95.3233911085 38.2690339138 1.49618814818 1.64742609334\" preserveAspectRatio=\"xMinYMin meet\"><g transform=\"matrix(1,0,0,-1,0,78.185493921)\"><path fill-rule=\"evenodd\" fill=\"#66cc99\" stroke=\"#555555\" stroke-width=\"0.0329485218668\" opacity=\"0.6\" d=\"M -95.2513111336,39.3881332595 L -95.2503322426,39.396398577 L -95.2398984042,39.4440619696 L -95.2248685954,39.4904814571 L -95.2154913584,39.5120122519 L -95.2086528144,39.5299904045 L -95.1873899133,39.5729696053 L -95.162107721,39.6137143402 L -95.1573908599,39.6205599591 L -95.1287945379,39.6581326821 L -95.1282084797,39.6587680722 L -95.116733633,39.6741373131 L -95.0832473224,39.710764942 L -95.0462949439,39.7438925426 L -95.00624054,39.7731937528 L -94.9634787132,39.798379907 L -94.9184307387,39.8192028797 L -94.871540414,39.8354575298 L -94.823269687,39.846983722 L -94.7740941046,39.8536679042 L -94.7244981282,39.8554442259 L -94.6544606398,39.8544743108 L -94.6061201245,39.8514587424 L -94.5582981852,39.8437801227 L -94.5114435639,39.8315105045 L -94.4852691465,39.8218663672 L -94.4654609643,39.8176850223 L -94.4595708605,39.8171113455 L -94.4497544983,39.81615439 L -94.4036168434,39.8094729901 L -94.3583020147,39.798523533 L -94.3397065164,39.7921466728 L -94.3310032829,39.790065329 L -94.3271919732,39.7887619699 L -94.314060646,39.7855316235 L -94.2708537555,39.7706030984 L -94.2659844248,39.76866725 L -94.2212358336,39.7482746268 L -94.1787069085,39.7235848308 L -94.1388090396,39.6948366908 L -94.1351675617,39.6919304546 L -94.0975688781,39.6587018683 L -94.0634899928,39.6218721312 L -94.0332741211,39.581812163 L -94.0072255729,39.5389254157 L -93.9856066885,39.4936438102 L -93.9686351959,39.4464233867 L -93.9592964309,39.4090137949 L -93.9527440463,39.3971716918 L -93.9327316535,39.3502791307 L -93.91759866,39.30159237 L -93.9075024133,39.2516176368 L -93.9025478905,39.20087455 L -93.9027866067,39.1498907175 L -93.9028332909,39.149454832 L -93.8970393836,39.1256381494 L -93.8901274527,39.076003443 L -93.8882187416,39.0259261459 L -93.8882631155,39.0222401133 L -93.8883680482,39.0138136407 L -93.8884791746,39.0046926704 L -93.8885238861,39.0010217344 L -93.8886132506,38.9936849986 L -93.8887024737,38.9863602654 L -93.8887915078,38.979045629 L -93.88888045,38.9717395532 L -93.8889248325,38.9680915397 L -93.8890136359,38.9607965085 L -93.889057951,38.9571548903 L -93.892195269,38.9069872229 L -93.9003537806,38.8573880667 L -93.9134510314,38.808858698 L -93.9313546534,38.7618895813 L -93.9435862257,38.7374937212 L -93.956708256,38.6899190007 L -93.9578967728,38.6863501735 L -93.9756749147,38.6405933372 L -93.9978542927,38.5968003515 L -94.0242211196,38.5553933372 L -94.0545212457,38.5167714164 L -94.0884626078,38.4813068659 L -94.1257180452,38.4493415287 L -94.1659284527,38.4211835186 L -94.2087062421,38.3971042508 L -94.2536390781,38.3773358253 L -94.2583017996,38.3755521714 L -94.3016293836,38.3612080956 L -94.3460844321,38.35087462 L -94.3912965398,38.3446378445 L -94.4368889937,38.3425497347 L -94.4461702875,38.342548701 L -94.4507773056,38.3425478384 L -94.4601730502,38.3401348295 L -94.5097904743,38.3325867668 L -94.5599146331,38.3300508776 L -94.5633957983,38.3300496951 L -94.612227405,38.3324232669 L -94.6605937743,38.339554465 L -94.7080324927,38.3513751104 L -94.7540900157,38.3677721903 L -94.7983260041,38.388588938 L -94.8223366508,38.4029052545 L -94.8253582758,38.4042585659 L -94.8288688221,38.40603349 L -94.8719732581,38.4305843687 L -94.912432822,38.4592856183 L -94.9498492724,38.4918547339 L -94.9838543208,38.5279711391 L -95.0141132573,38.5672793419 L -95.0403282446,38.6093924336 L -95.0622412497,38.6538958969 L -95.079636584,38.7003516865 L -95.0923430262,38.7483025403 L -95.1002355072,38.7972764802 L -95.1032363418,38.8467914581 L -95.1033336241,38.8557125184 L -95.1034311497,38.8646489553 L -95.1034782614,38.8689662734 L -95.1048244054,38.8851980556 L -95.1048641016,38.8887920548 L -95.1049038273,38.8923889246 L -95.1049437165,38.8960239765 L -95.104993563,38.9007698855 L -95.1049171804,38.9033332148 L -95.1313773789,38.932283017 L -95.161397424,38.9726109889 L -95.1872158869,39.0157497811 L -95.1873905444,39.0161220102 L -95.1938969785,39.0262071028 L -95.2161020135,39.0692780028 L -95.2340334212,39.1142961172 L -95.2353573386,39.1181540334 L -95.2493222657,39.166713537 L -95.2583149585,39.2164345191 L -95.2622435819,39.2668092201 L -95.2623753273,39.2716371681 L -95.261158058,39.322710814 L -95.2547354413,39.3733936418 L -95.2513111336,39.3881332595 z\" /></g></svg>"
      ],
      "text/plain": [
       "<shapely.geometry.polygon.Polygon at 0x7fb5f5a63950>"
      ]
     },
     "execution_count": 16,
     "metadata": {},
     "output_type": "execute_result"
    }
   ],
   "source": [
    "kcmo_simple"
   ]
  },
  {
   "cell_type": "code",
   "execution_count": 17,
   "metadata": {},
   "outputs": [
    {
     "data": {
      "text/plain": [
       "'POINT (-94.56097259792114 39.10808543024518)'"
      ]
     },
     "execution_count": 17,
     "metadata": {},
     "output_type": "execute_result"
    }
   ],
   "source": [
    "kcmo_simple.centroid.wkt"
   ]
  },
  {
   "cell_type": "code",
   "execution_count": 18,
   "metadata": {
    "collapsed": true
   },
   "outputs": [],
   "source": [
    "def kc(poi):\n",
    "    \"\"\"\n",
    "    Returns True if the POI is inside the KCMO shape file\n",
    "    \"\"\"\n",
    "    latitude, longitude = poi[1][0], poi[1][1]\n",
    "    return city.value.intersects(Point(longitude, latitude))"
   ]
  },
  {
   "cell_type": "code",
   "execution_count": 19,
   "metadata": {
    "collapsed": true
   },
   "outputs": [],
   "source": [
    "kc_poi = poi.filter(kc)\n",
    "#kc_poi.count()\n",
    "# Out of the 25419 poi's that have Kansas City as their address, 18148 are located within the KC shape file\n",
    "# 23989 are located within the KC shape file with buffer = 0.1\n",
    "# 22146 are located within the KC shape file with buffer = 0.01\n",
    "# 23741 are located within the KC shape file with buffer = 0.025"
   ]
  },
  {
   "cell_type": "code",
   "execution_count": 8,
   "metadata": {},
   "outputs": [
    {
     "data": {
      "text/plain": [
       "[(u'7098', [39.842443, -94.793003, u'Brake Service & Repair', u'I', 7539])]"
      ]
     },
     "execution_count": 8,
     "metadata": {},
     "output_type": "execute_result"
    }
   ],
   "source": [
    "kc_poi.take(1)"
   ]
  },
  {
   "cell_type": "code",
   "execution_count": 20,
   "metadata": {
    "collapsed": true
   },
   "outputs": [],
   "source": [
    "kc_poi2 = kc_poi.map(lambda x: (Point(x[1][1], x[1][0]), x[1][2:]))"
   ]
  },
  {
   "cell_type": "code",
   "execution_count": 18,
   "metadata": {
    "collapsed": true
   },
   "outputs": [],
   "source": [
    "poi = kc_poi2.take(1)"
   ]
  },
  {
   "cell_type": "code",
   "execution_count": 21,
   "metadata": {
    "collapsed": true
   },
   "outputs": [],
   "source": [
    "kc_poi_list = sc.broadcast(kc_poi2.collect())"
   ]
  },
  {
   "cell_type": "code",
   "execution_count": 22,
   "metadata": {
    "collapsed": true
   },
   "outputs": [],
   "source": [
    "locations = sc.textFile(\"hdfs://cls04pri/user/vvelocci/locations_in_kcmo_by_subid.txt\")\n",
    "locations = locations.map(literal_eval).cache()"
   ]
  },
  {
   "cell_type": "code",
   "execution_count": 59,
   "metadata": {},
   "outputs": [
    {
     "data": {
      "text/plain": [
       "[(u'54fac2fab60c1d52c81628493aecba8a',\n",
       "  [{'geometry': {'coordinates': [[[-94.5795, 39.194],\n",
       "       [-94.5794, 39.1932],\n",
       "       [-94.5791, 39.1925],\n",
       "       [-94.5779, 39.1921],\n",
       "       [-94.5762, 39.1926],\n",
       "       [-94.5761, 39.1932],\n",
       "       [-94.5761, 39.1933],\n",
       "       [-94.5795, 39.194]]],\n",
       "     'type': 'Polygon'},\n",
       "    'properties': {'geom_id': 0,\n",
       "     'geom_type': 'Location',\n",
       "     'time_spent': 0,\n",
       "     'times': []},\n",
       "    'type': 'Feature'}]),\n",
       " (u'8940248df75fa221ec44f7bc2b71316a',\n",
       "  [{'geometry': {'coordinates': [[-94.5813, 39.27], [-94.5797, 39.2612]],\n",
       "     'type': 'LineString'},\n",
       "    'properties': {'geom_id': 0,\n",
       "     'geom_type': 'Location',\n",
       "     'time_spent': 8889,\n",
       "     'times': [['2017-04-30 00:00:00', '2017-04-30 00:33:46.665000'],\n",
       "      ['2017-04-30 04:21:02.126000', '2017-04-30 04:44:16.668000'],\n",
       "      ['2017-04-30 07:54:47.767000', '2017-04-30 07:56:30.794000'],\n",
       "      ['2017-04-30 12:03:31.157000', '2017-04-30 12:14:58.845000'],\n",
       "      ['2017-04-30 13:06:24.208000', '2017-04-30 13:15:52.024000'],\n",
       "      ['2017-04-30 14:44:22.376000', '2017-04-30 15:26:12.600000'],\n",
       "      ['2017-04-30 23:33:19.899000', '2017-05-01 00:00:00']]},\n",
       "    'type': 'Feature'},\n",
       "   {'geometry': {'coordinates': [[[-94.5966, 39.2057],\n",
       "       [-94.5538, 39.2244],\n",
       "       [-94.5419, 39.2297],\n",
       "       [-94.556, 39.2368],\n",
       "       [-94.5615, 39.2389],\n",
       "       [-94.572, 39.2333],\n",
       "       [-94.5814, 39.2255],\n",
       "       [-94.5966, 39.2057]]],\n",
       "     'type': 'Polygon'},\n",
       "    'properties': {'geom_id': 1,\n",
       "     'geom_type': 'Location',\n",
       "     'time_spent': 38537,\n",
       "     'times': [['2017-04-30 00:43:23.865000', '2017-04-30 04:10:44.326000'],\n",
       "      ['2017-04-30 04:53:53.868000', '2017-04-30 07:44:29.967000'],\n",
       "      ['2017-04-30 08:06:07.994000', '2017-04-30 09:12:22'],\n",
       "      ['2017-04-30 12:24:36.045000', '2017-04-30 12:56:06.408000'],\n",
       "      ['2017-04-30 13:25:29.224000', '2017-04-30 14:12:05.950000'],\n",
       "      ['2017-04-30 15:58:44', '2017-04-30 15:58:44'],\n",
       "      ['2017-04-30 21:23:03', '2017-04-30 23:23:02.099000']]},\n",
       "    'type': 'Feature'},\n",
       "   {'geometry': {'coordinates': [[[-94.5914, 39.1693],\n",
       "       [-94.5853, 39.1616],\n",
       "       [-94.5834, 39.1624],\n",
       "       [-94.5887, 39.1673],\n",
       "       [-94.5914, 39.1693]]],\n",
       "     'type': 'Polygon'},\n",
       "    'properties': {'geom_id': 2,\n",
       "     'geom_type': 'Location',\n",
       "     'time_spent': 9104,\n",
       "     'times': [['2017-04-30 09:26:10', '2017-04-30 11:51:28.157000'],\n",
       "      ['2017-04-30 14:25:53.950000', '2017-04-30 14:32:19.376000']]},\n",
       "    'type': 'Feature'},\n",
       "   {'geometry': {'coordinates': [[[-94.5934, 39.09],\n",
       "       [-94.5891, 39.0712],\n",
       "       [-94.5777, 39.0855],\n",
       "       [-94.5814, 39.1144],\n",
       "       [-94.5845, 39.1124],\n",
       "       [-94.5911, 39.0964],\n",
       "       [-94.5934, 39.09]]],\n",
       "     'type': 'Polygon'},\n",
       "    'properties': {'geom_id': 3,\n",
       "     'geom_type': 'Location',\n",
       "     'time_spent': 0,\n",
       "     'times': []},\n",
       "    'type': 'Feature'},\n",
       "   {'geometry': {'coordinates': [[-94.5923, 39.1484], [-94.5998, 39.1489]],\n",
       "     'type': 'LineString'},\n",
       "    'properties': {'geom_id': 4,\n",
       "     'geom_type': 'Location',\n",
       "     'time_spent': 0,\n",
       "     'times': []},\n",
       "    'type': 'Feature'},\n",
       "   {'geometry': {'coordinates': [-94.6149, 39.1333], 'type': 'Point'},\n",
       "    'properties': {'geom_id': 5,\n",
       "     'geom_type': 'Location',\n",
       "     'time_spent': 0,\n",
       "     'times': []},\n",
       "    'type': 'Feature'},\n",
       "   {'geometry': {'coordinates': [-94.5818, 39.2458], 'type': 'Point'},\n",
       "    'properties': {'geom_id': 6,\n",
       "     'geom_type': 'Location',\n",
       "     'time_spent': 1258,\n",
       "     'times': [['2017-04-30 15:31:03', '2017-04-30 15:52:01.900000']]},\n",
       "    'type': 'Feature'},\n",
       "   {'geometry': {'coordinates': [-94.6091, 39.1063], 'type': 'Point'},\n",
       "    'properties': {'geom_id': 7,\n",
       "     'geom_type': 'Location',\n",
       "     'time_spent': 17436,\n",
       "     'times': [['2017-04-30 16:11:57.220000', '2017-04-30 21:02:33.400000']]},\n",
       "    'type': 'Feature'}]),\n",
       " (u'449bef183516ff0b3fb6fd2cb1cfcd01',\n",
       "  [{'geometry': {'coordinates': [[[-94.7096, 38.921],\n",
       "       [-94.7027, 38.9161],\n",
       "       [-94.7011, 38.9331],\n",
       "       [-94.7012, 38.9331],\n",
       "       [-94.7096, 38.921]]],\n",
       "     'type': 'Polygon'},\n",
       "    'properties': {'geom_id': 0,\n",
       "     'geom_type': 'Location',\n",
       "     'time_spent': 47103,\n",
       "     'times': [['2017-04-30 00:00:00', '2017-04-30 13:05:03.200000']]},\n",
       "    'type': 'Feature'},\n",
       "   {'geometry': {'coordinates': [-94.7033, 38.9507], 'type': 'Point'},\n",
       "    'properties': {'geom_id': 1,\n",
       "     'geom_type': 'Location',\n",
       "     'time_spent': 0,\n",
       "     'times': []},\n",
       "    'type': 'Feature'},\n",
       "   {'geometry': {'coordinates': [[[-94.7158, 38.98],\n",
       "       [-94.7155, 38.9688],\n",
       "       [-94.7142, 38.9684],\n",
       "       [-94.7134, 38.9738],\n",
       "       [-94.7137, 38.9865],\n",
       "       [-94.7158, 38.98]]],\n",
       "     'type': 'Polygon'},\n",
       "    'properties': {'geom_id': 2,\n",
       "     'geom_type': 'Location',\n",
       "     'time_spent': 0,\n",
       "     'times': []},\n",
       "    'type': 'Feature'},\n",
       "   {'geometry': {'coordinates': [[[-94.709, 39.0103],\n",
       "       [-94.68, 38.9961],\n",
       "       [-94.6772, 39.0058],\n",
       "       [-94.6875, 39.0136],\n",
       "       [-94.6916, 39.0148],\n",
       "       [-94.6998, 39.0133],\n",
       "       [-94.709, 39.0103]]],\n",
       "     'type': 'Polygon'},\n",
       "    'properties': {'geom_id': 3,\n",
       "     'geom_type': 'Location',\n",
       "     'time_spent': 0,\n",
       "     'times': [['2017-04-30 15:19:49.990000', '2017-04-30 15:19:49.990000']]},\n",
       "    'type': 'Feature'},\n",
       "   {'geometry': {'coordinates': [-94.6735, 38.8843], 'type': 'Point'},\n",
       "    'properties': {'geom_id': 4,\n",
       "     'geom_type': 'Location',\n",
       "     'time_spent': 6705,\n",
       "     'times': [['2017-04-30 13:14:54', '2017-04-30 15:06:39.990000']]},\n",
       "    'type': 'Feature'},\n",
       "   {'geometry': {'coordinates': [-94.6826, 38.9182], 'type': 'Point'},\n",
       "    'properties': {'geom_id': 5,\n",
       "     'geom_type': 'Location',\n",
       "     'time_spent': 0,\n",
       "     'times': []},\n",
       "    'type': 'Feature'},\n",
       "   {'geometry': {'coordinates': [-94.7006, 38.8375], 'type': 'Point'},\n",
       "    'properties': {'geom_id': 6,\n",
       "     'geom_type': 'Location',\n",
       "     'time_spent': 0,\n",
       "     'times': []},\n",
       "    'type': 'Feature'},\n",
       "   {'geometry': {'coordinates': [[-94.688, 38.9043], [-94.6872, 38.904]],\n",
       "     'type': 'LineString'},\n",
       "    'properties': {'geom_id': 7,\n",
       "     'geom_type': 'Location',\n",
       "     'time_spent': 30437,\n",
       "     'times': [['2017-04-30 15:32:43.480000', '2017-05-01 00:00:00']]},\n",
       "    'type': 'Feature'}]),\n",
       " (u'14d4039d3f76ce6820075b873ee08106',\n",
       "  [{'geometry': {'coordinates': [[[-94.5329, 38.8599],\n",
       "       [-94.5306, 38.8553],\n",
       "       [-94.5267, 38.848],\n",
       "       [-94.5042, 38.8086],\n",
       "       [-94.4993, 38.8035],\n",
       "       [-94.4964, 38.8028],\n",
       "       [-94.495, 38.8028],\n",
       "       [-94.4946, 38.8045],\n",
       "       [-94.4963, 38.8336],\n",
       "       [-94.5171, 38.8651],\n",
       "       [-94.5326, 38.8619],\n",
       "       [-94.5329, 38.8599]]],\n",
       "     'type': 'Polygon'},\n",
       "    'properties': {'geom_id': 0,\n",
       "     'geom_type': 'Location',\n",
       "     'time_spent': 0,\n",
       "     'times': []},\n",
       "    'type': 'Feature'}]),\n",
       " (u'5df3245f0da6e0db1aa1e3b73d280010',\n",
       "  [{'geometry': {'coordinates': [[[-94.6886, 38.8428],\n",
       "       [-94.6776, 38.8559],\n",
       "       [-94.6716, 38.8638],\n",
       "       [-94.6875, 38.8565],\n",
       "       [-94.6876, 38.8559],\n",
       "       [-94.6886, 38.8428]]],\n",
       "     'type': 'Polygon'},\n",
       "    'properties': {'geom_id': 0,\n",
       "     'geom_type': 'Location',\n",
       "     'time_spent': 50597,\n",
       "     'times': [['2017-04-30 00:00:00', '2017-04-30 09:55:36.861000'],\n",
       "      ['2017-04-30 10:24:25.610000', '2017-04-30 10:45:20.300000'],\n",
       "      ['2017-04-30 11:23:38.160000', '2017-04-30 13:25:04.300000'],\n",
       "      ['2017-04-30 19:25:23', '2017-04-30 20:58:23.600000'],\n",
       "      ['2017-04-30 23:17:13', '2017-04-30 23:29:33.670000']]},\n",
       "    'type': 'Feature'},\n",
       "   {'geometry': {'coordinates': [-94.7272, 38.8534], 'type': 'Point'},\n",
       "    'properties': {'geom_id': 1,\n",
       "     'geom_type': 'Location',\n",
       "     'time_spent': 1130,\n",
       "     'times': [['2017-04-30 10:00:52.461000', '2017-04-30 10:19:42.910000']]},\n",
       "    'type': 'Feature'},\n",
       "   {'geometry': {'coordinates': [-94.6747, 38.9349], 'type': 'Point'},\n",
       "    'properties': {'geom_id': 2,\n",
       "     'geom_type': 'Location',\n",
       "     'time_spent': 0,\n",
       "     'times': []},\n",
       "    'type': 'Feature'},\n",
       "   {'geometry': {'coordinates': [-94.6391, 38.8534], 'type': 'Point'},\n",
       "    'properties': {'geom_id': 3,\n",
       "     'geom_type': 'Location',\n",
       "     'time_spent': 0,\n",
       "     'times': []},\n",
       "    'type': 'Feature'},\n",
       "   {'geometry': {'coordinates': [[[-94.704, 38.8814],\n",
       "       [-94.7028, 38.8787],\n",
       "       [-94.6759, 38.8772],\n",
       "       [-94.6829, 38.8844],\n",
       "       [-94.7012, 38.8931],\n",
       "       [-94.704, 38.8814]]],\n",
       "     'type': 'Polygon'},\n",
       "    'properties': {'geom_id': 4,\n",
       "     'geom_type': 'Location',\n",
       "     'time_spent': 3516,\n",
       "     'times': [['2017-04-30 10:52:07', '2017-04-30 11:17:06.360000'],\n",
       "      ['2017-04-30 13:31:51', '2017-04-30 14:05:28.700000']]},\n",
       "    'type': 'Feature'},\n",
       "   {'geometry': {'coordinates': [[[-94.6511, 38.9658],\n",
       "       [-94.6394, 38.9656],\n",
       "       [-94.647, 38.9715],\n",
       "       [-94.6483, 38.9715],\n",
       "       [-94.6495, 38.9704],\n",
       "       [-94.6496, 38.9702],\n",
       "       [-94.6511, 38.9658]]],\n",
       "     'type': 'Polygon'},\n",
       "    'properties': {'geom_id': 5,\n",
       "     'geom_type': 'Location',\n",
       "     'time_spent': 12888,\n",
       "     'times': [['2017-04-30 14:21:12', '2017-04-30 16:08:38.500000'],\n",
       "      ['2017-04-30 21:13:54.200000', '2017-04-30 23:01:16.500000']]},\n",
       "    'type': 'Feature'},\n",
       "   {'geometry': {'coordinates': [[[-94.6596, 38.8874],\n",
       "       [-94.6552, 38.8783],\n",
       "       [-94.6423, 38.8827],\n",
       "       [-94.6446, 38.8848],\n",
       "       [-94.6455, 38.885],\n",
       "       [-94.6596, 38.8874]]],\n",
       "     'type': 'Polygon'},\n",
       "    'properties': {'geom_id': 6,\n",
       "     'geom_type': 'Location',\n",
       "     'time_spent': 0,\n",
       "     'times': []},\n",
       "    'type': 'Feature'},\n",
       "   {'geometry': {'coordinates': [[[-94.6258, 38.9928],\n",
       "       [-94.6231, 38.9858],\n",
       "       [-94.6138, 38.9924],\n",
       "       [-94.6072, 38.9976],\n",
       "       [-94.5993, 39.0093],\n",
       "       [-94.6065, 39.0113],\n",
       "       [-94.6258, 38.9928]]],\n",
       "     'type': 'Polygon'},\n",
       "    'properties': {'geom_id': 7,\n",
       "     'geom_type': 'Location',\n",
       "     'time_spent': 5594,\n",
       "     'times': [['2017-04-30 16:16:02', '2017-04-30 17:49:16.800000']]},\n",
       "    'type': 'Feature'},\n",
       "   {'geometry': {'coordinates': [[[-94.6126, 39.0332],\n",
       "       [-94.5948, 39.0306],\n",
       "       [-94.5754, 39.0375],\n",
       "       [-94.5739, 39.0479],\n",
       "       [-94.5783, 39.0565],\n",
       "       [-94.6126, 39.0332]]],\n",
       "     'type': 'Polygon'},\n",
       "    'properties': {'geom_id': 8,\n",
       "     'geom_type': 'Location',\n",
       "     'time_spent': 921,\n",
       "     'times': [['2017-04-30 17:57:11', '2017-04-30 18:09:02.630000'],\n",
       "      ['2017-04-30 23:56:30.870000', '2017-05-01 00:00:00']]},\n",
       "    'type': 'Feature'},\n",
       "   {'geometry': {'coordinates': [[[-94.6857, 38.9056],\n",
       "       [-94.6813, 38.9025],\n",
       "       [-94.6739, 38.902],\n",
       "       [-94.6719, 38.9045],\n",
       "       [-94.6798, 38.9054],\n",
       "       [-94.6857, 38.9056]]],\n",
       "     'type': 'Polygon'},\n",
       "    'properties': {'geom_id': 9,\n",
       "     'geom_type': 'Location',\n",
       "     'time_spent': 586,\n",
       "     'times': [['2017-04-30 18:32:22.230000', '2017-04-30 18:42:08.180000']]},\n",
       "    'type': 'Feature'},\n",
       "   {'geometry': {'coordinates': [-94.6414, 38.9154], 'type': 'Point'},\n",
       "    'properties': {'geom_id': 10,\n",
       "     'geom_type': 'Location',\n",
       "     'time_spent': 72,\n",
       "     'times': [['2017-04-30 18:49:14.480000', '2017-04-30 18:50:26.400000']]},\n",
       "    'type': 'Feature'},\n",
       "   {'geometry': {'coordinates': [-94.6449, 39.0081], 'type': 'Point'},\n",
       "    'properties': {'geom_id': 11,\n",
       "     'geom_type': 'Location',\n",
       "     'time_spent': 0,\n",
       "     'times': [['2017-04-30 19:04:50', '2017-04-30 19:04:50']]},\n",
       "    'type': 'Feature'}])]"
      ]
     },
     "execution_count": 59,
     "metadata": {},
     "output_type": "execute_result"
    }
   ],
   "source": [
    "l = locations.take(5)\n",
    "l"
   ]
  },
  {
   "cell_type": "code",
   "execution_count": 63,
   "metadata": {
    "collapsed": true
   },
   "outputs": [],
   "source": [
    "# buf = Point(-94.5794, 39.1932).buffer(0.0065) # 0.0065 corresponds to approximately 0.37 miles ~ 600 m\n",
    "# list(buf.exterior.coords)"
   ]
  },
  {
   "cell_type": "code",
   "execution_count": 24,
   "metadata": {
    "collapsed": true
   },
   "outputs": [],
   "source": [
    "#locations.count()\n",
    "# 545309"
   ]
  },
  {
   "cell_type": "code",
   "execution_count": 25,
   "metadata": {
    "collapsed": true
   },
   "outputs": [],
   "source": [
    "# Find centroid of location object, form a buffer around it of a certain distance, find all the poi's that intersect\n",
    "# the buffer region, classify the location as being the industry code associated w/ the most number of poi's in region."
   ]
  },
  {
   "cell_type": "code",
   "execution_count": 23,
   "metadata": {
    "collapsed": true
   },
   "outputs": [],
   "source": [
    "def nonzero(location):\n",
    "    \"\"\"\n",
    "    Filters out locations with dwell times of\n",
    "    zero\n",
    "    \"\"\"\n",
    "    locations = []\n",
    "    for loc in location[1]:\n",
    "        if loc['properties']['time_spent'] > 0:\n",
    "            locations.append(loc)\n",
    "    return (location[0], locations)\n",
    "\n",
    "def centroid(location):\n",
    "    \"\"\"\n",
    "    For each location object, forms a Shape object from the \n",
    "    location geometry, calculates the centroid of the geometry,\n",
    "    and returns a new location object with 'centroid':centroid\n",
    "    key, value pair added to it.\n",
    "    \"\"\"\n",
    "    for loc in location[1]:\n",
    "        geometry = loc['geometry']\n",
    "        shape = asShape(geometry)\n",
    "        coordinates = list(shape.centroid.coords)[0]\n",
    "        loc['centroid'] = Point(coordinates)\n",
    "    return location\n",
    "\n",
    "# We can use regular buffer (Euclidean) because relative error between Euclidean (D) and Great Circle Distance (L) is\n",
    "# (L - D)/L which is approximately L^2/(24*R^2) where R is Earth's radius and where we expand sin(theta) to first two\n",
    "# nonzero terms via its Taylor Series.  Using L = 1 mile, we get relative error of 2.6 x 10^-7 %\n",
    "def form_buffer2(centroid, distance):\n",
    "    \"\"\"\n",
    "    Returns a (Euclidean) buffer of radius distance\n",
    "    about the centroid\n",
    "    \"\"\"\n",
    "    return asShape(centroid).buffer(distance)\n",
    "\n",
    "# def nearest_k(k, nearby, centroid):\n",
    "#     distances = []\n",
    "#     for poi in nearby:\n",
    "#         distance = vincenty(list(centroid.coords)[0][::-1], list(poi[0].coords)[0][::-1])\n",
    "#         distances.append(distance)\n",
    "#     indices = sorted(range(len(distances)), key=lambda x: distances[x])\n",
    "#     nearby = [nearby[i] for i in indices[:k]]\n",
    "#     return nearby\n",
    "\n",
    "# def nearby_pois2(k, distance, location):\n",
    "#     centroid = location[1]['centroid']\n",
    "#     buf = form_buffer2(centroid, distance)\n",
    "#     nearby = []\n",
    "#     for kc_poi in kc_poi_list.value:\n",
    "#         if kc_poi[0].intersects(buf):\n",
    "#             nearby.append(kc_poi)\n",
    "#     if len(nearby) > 0:\n",
    "#         return (location[0], location[1], nearest_k(k, nearby, centroid))\n",
    "#     else:\n",
    "#         return nearby_pois2(k, distance*1.25, location)\n",
    "\n",
    "def nearby_pois3(k, buf_radius, miles, location):\n",
    "    \"\"\"\n",
    "    Forms buffer about centroid, and finds all POIs that intersect\n",
    "    the buffer and collects them in a list, nearby.\n",
    "    For each POI in nearby, find the vincenty (Great Circle Distance) from\n",
    "    centroid and if it is less than miles, keep it.\n",
    "    Arrange them in ascending order of distance.\n",
    "    Return user, location info, and (sorted) nearby\n",
    "    Note: Even though I argued error between Euclidean and\n",
    "    Great Circle distances is very small, I used vincenty distance since\n",
    "    it was working.  Using pyproj to non-Euclidean buffers was not working\n",
    "    for me.  Kept getting Python Egg errors, and 'list not found' errors\"\"\"\n",
    "    centroid = location[1]['centroid']\n",
    "    buf = form_buffer2(centroid, buf_radius)\n",
    "    nearby = []\n",
    "    for kc_poi in kc_poi_list.value:\n",
    "        if kc_poi[0].intersects(buf):\n",
    "            nearby.append(kc_poi)\n",
    "    distances = []\n",
    "    for poi in nearby:\n",
    "        d = vincenty(list(centroid.coords)[0][::-1], list(poi[0].coords)[0][::-1]).miles\n",
    "        if d <= miles:\n",
    "            distances.append(d)\n",
    "    indices = sorted(range(len(distances)), key=lambda x: distances[x])\n",
    "    nearby = [nearby[i] for i in indices[:k]]\n",
    "    return (location[0], location[1], nearby)\n",
    "\n",
    "def bins(hour_dict):\n",
    "    \"\"\"\n",
    "    Takes a dictionary of hour,frequency and returns\n",
    "    a dictionary in which the keys are bins and the values are\n",
    "    total timestamps occurring for that bin.  Here I chose 4 bins of length\n",
    "    6 hours\n",
    "    \"\"\"\n",
    "    bin_dict = collections.Counter()\n",
    "    for hour,freq in hour_dict.items():\n",
    "        if hour in range(0,6):\n",
    "            bin_dict[0] += freq\n",
    "        elif hour in range(6,12):\n",
    "            bin_dict[1] += freq\n",
    "        elif hour in range(12,18):\n",
    "            bin_dict[2] += freq\n",
    "        else:\n",
    "            bin_dict[3] += freq\n",
    "    return bin_dict\n",
    "\n",
    "def parse_datetime(location):\n",
    "    \"\"\"Parses through every timestamp and makes a datetime object\n",
    "    Forms a dictionary of hours, frequency pairs in which frequency\n",
    "    is the total number of occurrences of that particular hour in the location\n",
    "    object.\n",
    "    Then, take that dictionary and return a bin dictionary in which each bin\n",
    "    is of length 6 hours\"\"\"\n",
    "    time_intervals = location[1]['properties']['times']\n",
    "    hour_dict = collections.Counter()\n",
    "    for time_interval in time_intervals:\n",
    "        date1 = time_interval[0]\n",
    "        date2 = time_interval[1]\n",
    "        try:\n",
    "            x = datetime.strptime(date1, '%Y-%m-%d %H:%M:%S.%f')\n",
    "        except:\n",
    "            date1 = date1 + '.0' # In case of whole number seconds\n",
    "            x = datetime.strptime(date1, '%Y-%m-%d %H:%M:%S.%f')\n",
    "        try:\n",
    "            y = datetime.strptime(date2, '%Y-%m-%d %H:%M:%S.%f')\n",
    "        except:\n",
    "            date2 = date2 + '.0'\n",
    "            y = datetime.strptime(date2, '%Y-%m-%d %H:%M:%S.%f')\n",
    "        xhour, yhour = x.hour, y.hour\n",
    "        hour_dict[xhour] += 1\n",
    "        hour_dict[yhour] += 1\n",
    "    bin_dict = bins(hour_dict)\n",
    "    return dict(bin_dict)\n",
    "    \n",
    "# def nearby_pois(distance, k, location):\n",
    "#     centroid = location[1]['centroid']\n",
    "#     buf = form_buffer2(centroid, distance)\n",
    "#     nearby = []\n",
    "#     for kc_poi in kc_poi_list.value:\n",
    "#         if kc_poi[0].intersects(buf):\n",
    "#             nearby.append(kc_poi)\n",
    "#     if len(nearby) < k:\n",
    "#         return nearby_pois(distance*1.5, k, location)\n",
    "#     elif len(nearby) > 2*k :\n",
    "#         return nearby_pois(distance/2.0, k, location)\n",
    "#     elif len(nearby) >= k and len(nearby) <= 2*k:\n",
    "#         nearby = nearest_k(k, nearby, centroid)\n",
    "#     return (location[0], location[1], nearby)\n",
    "\n",
    "# def form_buffer(centroid, distance):\n",
    "#     #Not working\n",
    "#     srcProj = pyproj.Proj(init='/home/vvelocci/pyproj-1.9.5.1/lib/pyproj/data/EPSG:4326')\n",
    "#     dstProj = pyproj.Proj(init='/home/vvelocci/pyproj-1.9.5.1/lib/pyproj/data/EPSG:5070')\n",
    "#     pt1 = list(centroid.coords)[0]\n",
    "#     x, y = pyproj.transform(srcProj, dstProj, pt1[0], pt1[1])\n",
    "#     pt = Point(x,y)\n",
    "#     buf = pt.buffer(distance)\n",
    "#     buffer_points =  zip(buf.exterior.coords.xy[0], buf.exterior.coords.xy[1])\n",
    "#     proj_buffer_points = []\n",
    "#     for point in buffer_points:\n",
    "#         x = point[0]\n",
    "#         y = point[1]\n",
    "#         x, y = pyproj.transform(dstProj, srcProj, x, y)\n",
    "#         proj_buffer_points.append((x, y))\n",
    "\n",
    "#     #print Polygon(proj_buffer_points)\n",
    "#     #print Polygon(proj_buffer_points).intersects(Point(pt1))\n",
    "#     #print Polygon(proj_buffer_points).contains(Point(pt1))\n",
    "#     return Polygon(proj_buffer_points)\n",
    "\n",
    "# def poi_in_buffer(poi):\n",
    "#     centroid = location[1][0]['centroid']\n",
    "#     buffer = form_buffer(centroid, distance)\n",
    "#     latitude, longitude = poi[1][0], poi[1][1]\n",
    "#     return city.value.intersects(Point(longitude, latitude))\n",
    "\n",
    "# If distance = 0.01 for buffer around centroid, 33% of location buffers will not intersect ANY poi's. \n",
    "# 9% if distance = 0.1.  48% of industry codes are G (retail trade).\n",
    "\n",
    "# def step2(location):\n",
    "#     poi_codes = collections.Counter()\n",
    "#     distance = 0.1 # Euclidean distance using long and lat as x and y coordinates\n",
    "#     centroid = location[1][0]['centroid']\n",
    "#     buffer = form_buffer(centroid, distance)\n",
    "#     if location[1][0]['properties']['time_spent'] == 0:\n",
    "#         location[1][0]['industry_code'] = 'waypoint/jump'\n",
    "#         return location\n",
    "#     else:\n",
    "#         for kc_poi in kc_poi_list.value:\n",
    "#             if kc_poi[0].intersects(buffer):\n",
    "#                 poi_codes[kc_poi[1]] += 1\n",
    "#         try:\n",
    "#             industry_code = max(poi_codes.iteritems(), key=lambda x: x[1])[0]\n",
    "#             location[1][0]['industry_code'] = industry_code\n",
    "#         except:\n",
    "#             location[1][0]['industry_code'] = \"Nothing\"\n",
    "#     return location\n",
    "\n",
    "# def polygon(location):\n",
    "#     if location[1][0]['geometry']['type'] == 'Polygon':\n",
    "#         return True\n",
    "#     return False\n",
    "\n",
    "# def poi_in_polygon(location):\n",
    "#     for loc in location[1]:\n",
    "#         centroid = loc['centroid']\n",
    "#         # Find the closest poi to the centroid\n",
    "#         # Then set loc['place'] = poi's 4-digit code and 8-digit codes\n",
    "# def nearest(x):\n",
    "#     nearby = x[2]\n",
    "#     center = x[1]['centroid']\n",
    "#     distances = []\n",
    "#     cen_coordinates = list(center.coords)[0][::-1]\n",
    "#     for place in nearby:\n",
    "#         pt = place[0]\n",
    "#         poi_coordinates = list(pt.coords)[0][::-1]\n",
    "#         #description = place[1]\n",
    "#         distance = vincenty(cen_coordinates, poi_coordinates)\n",
    "#         distances.append(distance)\n",
    "#     ind = distances.index(min(distances))\n",
    "#     description = nearby[ind][1]\n",
    "#     return description\n",
    "\n",
    "file = open(\"complete_sic_dict.pickle\",'r')\n",
    "sic_dict = pickle.load(file)\n",
    "\n",
    "def code_freq(location):\n",
    "    \"\"\"\n",
    "    Returns a list of 4-digit SIC codes (and their descriptions)\n",
    "    that occur the most frequent inside the buffer.\n",
    "    If there is a tie, return all of them\n",
    "    If no POIs are inside the buffer, return\n",
    "    'no_code' and 'Too_Far_Away'\n",
    "    \"\"\"\n",
    "    count = Counter()\n",
    "    for poi in location[2]:\n",
    "        count[poi[1][-1]] += 1\n",
    "    try:\n",
    "        highest = max(count.values())\n",
    "        winning_code = [k for k, v in count.items() if v == highest]\n",
    "        #winning_code = max(count, key=count.get)\n",
    "        #try:\n",
    "        codes1 = [i for i in winning_code if i in sic_dic.keys()]\n",
    "        codes2 = [i for i in winning_code if i not in sic_dic.keys()]\n",
    "        winning_description = [sic_dic[wc] for wc in codes1]\n",
    "        winning_description.extend(codes2)\n",
    "        #winning_description = sic_dict[winning_code]\n",
    "        #except:\n",
    "        #    winning_description = winning_code\n",
    "    except:\n",
    "        winning_code = 'no_code'\n",
    "        winning_description = 'Too_Far_Away'\n",
    "    return winning_description, winning_code\n",
    "\n",
    "def nearest_poi(location):\n",
    "    \"\"\"\n",
    "    Returns the nearest POI's description and\n",
    "    4-digit SIC code.  It will be the first in the list called\n",
    "    nearby\n",
    "    \"\"\"\n",
    "    nearby = location[2]\n",
    "    nearest_one = nearby[0]\n",
    "    nearest_description = nearest_one[1][0]\n",
    "    nearest_code = nearest_one[1][2]\n",
    "    return nearest_description, nearest_code\n",
    "\n",
    "def clf(location):\n",
    "    \"\"\"\n",
    "    Attach the nearest POI's code and description\n",
    "    and those of the POIs that occur most frequently\n",
    "    to the location data\n",
    "    \"\"\"\n",
    "    wd, wc = code_freq(location)\n",
    "    if wd == 'Too_Far_Away':\n",
    "        nd, nc = 'Too_Far_Away', 'Too_Far_Away'\n",
    "    else:\n",
    "        nd, nc = nearest_poi(location)\n",
    "    location[1]['centroid'] = list(location[1]['centroid'].coords)[0]\n",
    "    d = {'nearest_code': nc, 'nearest': nd, 'most_freq_code': wc, 'most_freq': wd}\n",
    "    return (location[0], location[1], d)\n",
    "\n",
    "def clf2(location):\n",
    "    \"\"\"\n",
    "    Attach centroid, time_spent, geometry_type, geom_id, bin_dict\n",
    "    to eac location data for each user\n",
    "    \"\"\"\n",
    "    d = location[2]\n",
    "    d['centroid'] = location[1]['centroid']\n",
    "    d['time_spent'] = location[1]['properties']['time_spent']\n",
    "    d['geometry_type'] = location[1]['geometry']['type']\n",
    "    d['geom_id'] = location[1]['properties']['geom_id']\n",
    "    # Commented out because keeping them in results in something I can't use literal_eval on when doing\n",
    "    # sc.textFile('file_path')\n",
    "    bin_dict = parse_datetime(location)\n",
    "    d['parts_of_day'] = bin_dict\n",
    "    return (location[0], d)"
   ]
  },
  {
   "cell_type": "code",
   "execution_count": 24,
   "metadata": {
    "collapsed": true
   },
   "outputs": [],
   "source": [
    "nonzero_loc_cent = locations.map(nonzero).map(centroid).flatMapValues(lambda x: x).map(lambda location: nearby_pois3(5, 0.007, 0.37, location))"
   ]
  },
  {
   "cell_type": "code",
   "execution_count": 22,
   "metadata": {
    "collapsed": true
   },
   "outputs": [],
   "source": [
    "n = nonzero_loc_cent.take(1)"
   ]
  },
  {
   "cell_type": "code",
   "execution_count": 24,
   "metadata": {
    "collapsed": true
   },
   "outputs": [],
   "source": [
    "location = n[0]"
   ]
  },
  {
   "cell_type": "code",
   "execution_count": 27,
   "metadata": {},
   "outputs": [
    {
     "data": {
      "text/plain": [
       "[u'Physicians & Surgeons Sclerotherapy', u'J', u'8011']"
      ]
     },
     "execution_count": 27,
     "metadata": {},
     "output_type": "execute_result"
    }
   ],
   "source": [
    "location[2][0][1][2]"
   ]
  },
  {
   "cell_type": "code",
   "execution_count": 25,
   "metadata": {
    "collapsed": true
   },
   "outputs": [],
   "source": [
    "classification = nonzero_loc_cent.map(clf) # 1708993 locations\n",
    "classification2 = classification.map(clf2)"
   ]
  },
  {
   "cell_type": "code",
   "execution_count": 67,
   "metadata": {
    "collapsed": true
   },
   "outputs": [],
   "source": [
    "x = classification.take(1)[0]"
   ]
  },
  {
   "cell_type": "code",
   "execution_count": 68,
   "metadata": {},
   "outputs": [
    {
     "data": {
      "text/plain": [
       "{'centroid': (-94.5805, 39.265600000000006),\n",
       " 'geometry': {'coordinates': [[-94.5813, 39.27], [-94.5797, 39.2612]],\n",
       "  'type': 'LineString'},\n",
       " 'properties': {'geom_id': 0,\n",
       "  'geom_type': 'Location',\n",
       "  'time_spent': 8889,\n",
       "  'times': [['2017-04-30 00:00:00', '2017-04-30 00:33:46.665000'],\n",
       "   ['2017-04-30 04:21:02.126000', '2017-04-30 04:44:16.668000'],\n",
       "   ['2017-04-30 07:54:47.767000', '2017-04-30 07:56:30.794000'],\n",
       "   ['2017-04-30 12:03:31.157000', '2017-04-30 12:14:58.845000'],\n",
       "   ['2017-04-30 13:06:24.208000', '2017-04-30 13:15:52.024000'],\n",
       "   ['2017-04-30 14:44:22.376000', '2017-04-30 15:26:12.600000'],\n",
       "   ['2017-04-30 23:33:19.899000', '2017-05-01 00:00:00']]},\n",
       " 'type': 'Feature'}"
      ]
     },
     "execution_count": 68,
     "metadata": {},
     "output_type": "execute_result"
    }
   ],
   "source": [
    "x[1]"
   ]
  },
  {
   "cell_type": "code",
   "execution_count": 69,
   "metadata": {
    "collapsed": true
   },
   "outputs": [],
   "source": [
    "classification_data = classification.map(lambda x: (x[0], x[2]['nearest'], x[2]['most_freq'], x[1]['centroid'], x[1]['properties']['time_spent'], x[1]['geometry']['type'],x[1]['properties']['geom_id']))\n",
    "classificationData = hc.createDataFrame(classification_data, ['id', 'nearest', 'most_freq', 'centroid', 'time_spent', 'geom_type', 'geom_id'])"
   ]
  },
  {
   "cell_type": "code",
   "execution_count": 26,
   "metadata": {
    "collapsed": true
   },
   "outputs": [],
   "source": [
    "\"\"\"\n",
    "Not being very creative here, I apologize\n",
    "I am combining the location objects for each user and grouping them\n",
    "by subid\n",
    "\"\"\"\n",
    "def blah(x):\n",
    "    return [x]\n",
    "def blah2(x,y):\n",
    "    x.append(y)\n",
    "    return x\n",
    "def blah3(x,y):\n",
    "    x.extend(y)\n",
    "    return x\n",
    "\n",
    "classification3 = classification2.combineByKey(blah, blah2, blah3)"
   ]
  },
  {
   "cell_type": "code",
   "execution_count": 52,
   "metadata": {
    "collapsed": true
   },
   "outputs": [],
   "source": [
    "cl = classification3.take(5)"
   ]
  },
  {
   "cell_type": "code",
   "execution_count": 53,
   "metadata": {},
   "outputs": [
    {
     "data": {
      "text/plain": [
       "[(u'8940248df75fa221ec44f7bc2b71316a',\n",
       "  [{'centroid': (-94.5805, 39.265600000000006),\n",
       "    'geom_id': 0,\n",
       "    'geometry_type': 'LineString',\n",
       "    'most_freq': 'Too_Far_Away',\n",
       "    'most_freq_code': 'no_code',\n",
       "    'nearest': 'Too_Far_Away',\n",
       "    'nearest_code': 'Too_Far_Away',\n",
       "    'parts_of_day': {0: 5, 1: 2, 2: 6, 3: 1},\n",
       "    'time_spent': 8889},\n",
       "   {'centroid': (-94.56874841630834, 39.224798797559764),\n",
       "    'geom_id': 1,\n",
       "    'geometry_type': 'Polygon',\n",
       "    'most_freq': 'Too_Far_Away',\n",
       "    'most_freq_code': 'no_code',\n",
       "    'nearest': 'Too_Far_Away',\n",
       "    'nearest_code': 'Too_Far_Away',\n",
       "    'parts_of_day': {0: 3, 1: 3, 2: 6, 3: 2},\n",
       "    'time_spent': 38537},\n",
       "   {'centroid': (-94.58683462812405, 39.16465903342366),\n",
       "    'geom_id': 2,\n",
       "    'geometry_type': 'Polygon',\n",
       "    'most_freq': 'Too_Far_Away',\n",
       "    'most_freq_code': 'no_code',\n",
       "    'nearest': 'Too_Far_Away',\n",
       "    'nearest_code': 'Too_Far_Away',\n",
       "    'parts_of_day': {1: 2, 2: 2},\n",
       "    'time_spent': 9104},\n",
       "   {'centroid': (-94.5818, 39.2458),\n",
       "    'geom_id': 6,\n",
       "    'geometry_type': 'Point',\n",
       "    'most_freq': 'Too_Far_Away',\n",
       "    'most_freq_code': 'no_code',\n",
       "    'nearest': 'Too_Far_Away',\n",
       "    'nearest_code': 'Too_Far_Away',\n",
       "    'parts_of_day': {2: 2},\n",
       "    'time_spent': 1258},\n",
       "   {'centroid': (-94.6091, 39.1063),\n",
       "    'geom_id': 7,\n",
       "    'geometry_type': 'Point',\n",
       "    'most_freq': 'Too_Far_Away',\n",
       "    'most_freq_code': 'no_code',\n",
       "    'nearest': 'Too_Far_Away',\n",
       "    'nearest_code': 'Too_Far_Away',\n",
       "    'parts_of_day': {2: 1, 3: 1},\n",
       "    'time_spent': 17436}]),\n",
       " (u'449bef183516ff0b3fb6fd2cb1cfcd01',\n",
       "  [{'centroid': (-94.70446187838016, 38.92345426724707),\n",
       "    'geom_id': 0,\n",
       "    'geometry_type': 'Polygon',\n",
       "    'most_freq': 'Too_Far_Away',\n",
       "    'most_freq_code': 'no_code',\n",
       "    'nearest': 'Too_Far_Away',\n",
       "    'nearest_code': 'Too_Far_Away',\n",
       "    'parts_of_day': {0: 1, 2: 1},\n",
       "    'time_spent': 47103},\n",
       "   {'centroid': (-94.6735, 38.8843),\n",
       "    'geom_id': 4,\n",
       "    'geometry_type': 'Point',\n",
       "    'most_freq': 'Too_Far_Away',\n",
       "    'most_freq_code': 'no_code',\n",
       "    'nearest': 'Too_Far_Away',\n",
       "    'nearest_code': 'Too_Far_Away',\n",
       "    'parts_of_day': {2: 2},\n",
       "    'time_spent': 6705},\n",
       "   {'centroid': (-94.6876, 38.90415),\n",
       "    'geom_id': 7,\n",
       "    'geometry_type': 'LineString',\n",
       "    'most_freq': 'Too_Far_Away',\n",
       "    'most_freq_code': 'no_code',\n",
       "    'nearest': 'Too_Far_Away',\n",
       "    'nearest_code': 'Too_Far_Away',\n",
       "    'parts_of_day': {0: 1, 2: 1},\n",
       "    'time_spent': 30437}]),\n",
       " (u'f888d70cd2f09af040940aa1822978b8',\n",
       "  [{'centroid': (-94.67163333333335, 39.149800000000006),\n",
       "    'geom_id': 0,\n",
       "    'geometry_type': 'Polygon',\n",
       "    'most_freq': 'Too_Far_Away',\n",
       "    'most_freq_code': 'no_code',\n",
       "    'nearest': 'Too_Far_Away',\n",
       "    'nearest_code': 'Too_Far_Away',\n",
       "    'parts_of_day': {0: 1, 1: 1},\n",
       "    'time_spent': 35427},\n",
       "   {'centroid': (-94.47915, 39.18914999999999),\n",
       "    'geom_id': 1,\n",
       "    'geometry_type': 'LineString',\n",
       "    'most_freq': 'Too_Far_Away',\n",
       "    'most_freq_code': 'no_code',\n",
       "    'nearest': 'Too_Far_Away',\n",
       "    'nearest_code': 'Too_Far_Away',\n",
       "    'parts_of_day': {0: 1, 1: 1},\n",
       "    'time_spent': 49457}]),\n",
       " (u'86b4e9d05dc7cab60488d7ee6f46b280',\n",
       "  [{'centroid': (-95.0898, 39.0453),\n",
       "    'geom_id': 8,\n",
       "    'geometry_type': 'Point',\n",
       "    'most_freq': 'Too_Far_Away',\n",
       "    'most_freq_code': 'no_code',\n",
       "    'nearest': 'Too_Far_Away',\n",
       "    'nearest_code': 'Too_Far_Away',\n",
       "    'parts_of_day': {2: 2},\n",
       "    'time_spent': 6307},\n",
       "   {'centroid': (-94.58595584925538, 39.080825639994245),\n",
       "    'geom_id': 9,\n",
       "    'geometry_type': 'Polygon',\n",
       "    'most_freq': 'Too_Far_Away',\n",
       "    'most_freq_code': 'no_code',\n",
       "    'nearest': 'Too_Far_Away',\n",
       "    'nearest_code': 'Too_Far_Away',\n",
       "    'parts_of_day': {0: 1, 3: 1},\n",
       "    'time_spent': 2563},\n",
       "   {'centroid': (-94.7341, 38.9264),\n",
       "    'geom_id': 26,\n",
       "    'geometry_type': 'Point',\n",
       "    'most_freq': 'Too_Far_Away',\n",
       "    'most_freq_code': 'no_code',\n",
       "    'nearest': 'Too_Far_Away',\n",
       "    'nearest_code': 'Too_Far_Away',\n",
       "    'parts_of_day': {3: 2},\n",
       "    'time_spent': 3391},\n",
       "   {'centroid': (-94.77226666666668, 38.876133333333335),\n",
       "    'geom_id': 27,\n",
       "    'geometry_type': 'Polygon',\n",
       "    'most_freq': 'Too_Far_Away',\n",
       "    'most_freq_code': 'no_code',\n",
       "    'nearest': 'Too_Far_Away',\n",
       "    'nearest_code': 'Too_Far_Away',\n",
       "    'parts_of_day': {3: 2},\n",
       "    'time_spent': 2660}]),\n",
       " (u'618ae825d187b1e633929e799c5f5c99',\n",
       "  [{'centroid': (-94.52385594229509, 38.87827671606558),\n",
       "    'geom_id': 1,\n",
       "    'geometry_type': 'Polygon',\n",
       "    'most_freq': 'Too_Far_Away',\n",
       "    'most_freq_code': 'no_code',\n",
       "    'nearest': 'Too_Far_Away',\n",
       "    'nearest_code': 'Too_Far_Away',\n",
       "    'parts_of_day': {0: 1, 2: 2, 3: 1},\n",
       "    'time_spent': 30957}])]"
      ]
     },
     "execution_count": 53,
     "metadata": {},
     "output_type": "execute_result"
    }
   ],
   "source": [
    "cl"
   ]
  },
  {
   "cell_type": "code",
   "execution_count": null,
   "metadata": {
    "collapsed": true
   },
   "outputs": [],
   "source": [
    "classification3.saveAsTextFile(\"hdfs://cls04pri/user/vvelocci/classification3.txt\")"
   ]
  },
  {
   "cell_type": "code",
   "execution_count": 17,
   "metadata": {
    "collapsed": true
   },
   "outputs": [],
   "source": [
    "classification3 = sc.textFile(\"hdfs://cls04pri/user/vvelocci/classification3.txt\")\n",
    "classification3 = classification3.map(literal_eval).cache()"
   ]
  },
  {
   "cell_type": "code",
   "execution_count": 55,
   "metadata": {},
   "outputs": [
    {
     "data": {
      "text/plain": [
       "[(u'8940248df75fa221ec44f7bc2b71316a',\n",
       "  [{'centroid': (-94.5805, 39.265600000000006),\n",
       "    'geom_id': 0,\n",
       "    'geometry_type': 'LineString',\n",
       "    'most_freq': u'DANCE STUDIOS, SCHOOLS, AND HALLS',\n",
       "    'nearest': u'Physicians & Surgeons Sclerotherapy',\n",
       "    'parts_of_day': {0: 5, 1: 2, 2: 6, 3: 1},\n",
       "    'time_spent': 8889},\n",
       "   {'centroid': (-94.56874841630834, 39.224798797559764),\n",
       "    'geom_id': 1,\n",
       "    'geometry_type': 'Polygon',\n",
       "    'most_freq': u'RELIGIOUS ORGANIZATIONS',\n",
       "    'nearest': u'Churches Baptist Independent',\n",
       "    'parts_of_day': {0: 3, 1: 3, 2: 6, 3: 2},\n",
       "    'time_spent': 38537},\n",
       "   {'centroid': (-94.58683462812405, 39.16465903342366),\n",
       "    'geom_id': 2,\n",
       "    'geometry_type': 'Polygon',\n",
       "    'most_freq': u'AUTOMOTIVE DEALERS',\n",
       "    'nearest': u'Dentist Oral Surgery',\n",
       "    'parts_of_day': {1: 2, 2: 2},\n",
       "    'time_spent': 9104},\n",
       "   {'centroid': (-94.5818, 39.2458),\n",
       "    'geom_id': 6,\n",
       "    'geometry_type': 'Point',\n",
       "    'most_freq': u'OPTICAL GOODS STORES',\n",
       "    'nearest': u'Dentists',\n",
       "    'parts_of_day': {2: 2},\n",
       "    'time_spent': 1258},\n",
       "   {'centroid': (-94.6091, 39.1063),\n",
       "    'geom_id': 7,\n",
       "    'geometry_type': 'Point',\n",
       "    'most_freq': u'GENERAL WAREHOUSING AND STORAGE',\n",
       "    'nearest': u'Warehouses Commodity & Merchandise',\n",
       "    'parts_of_day': {2: 1, 3: 1},\n",
       "    'time_spent': 17436}])]"
      ]
     },
     "execution_count": 55,
     "metadata": {},
     "output_type": "execute_result"
    }
   ],
   "source": [
    "classification3.take(1)"
   ]
  },
  {
   "cell_type": "code",
   "execution_count": 6,
   "metadata": {},
   "outputs": [
    {
     "data": {
      "text/plain": [
       "863727"
      ]
     },
     "execution_count": 6,
     "metadata": {},
     "output_type": "execute_result"
    }
   ],
   "source": [
    "def too_far_count(user):\n",
    "    \"\"\"\n",
    "    Counts how many 0.4 mile buffers contain/don't contain\n",
    "    any POIs\n",
    "    \"\"\"\n",
    "    sum = 0\n",
    "    for place in user[1]:\n",
    "        if place['nearest'] != 'Too_Far_Away':\n",
    "            sum += 1\n",
    "    return (user[0], sum)\n",
    "classification3.map(too_far_count).map(lambda x: x[1]).reduce(lambda x,y: x+y)"
   ]
  },
  {
   "cell_type": "code",
   "execution_count": 5,
   "metadata": {},
   "outputs": [
    {
     "data": {
      "text/plain": [
       "434357"
      ]
     },
     "execution_count": 5,
     "metadata": {},
     "output_type": "execute_result"
    }
   ],
   "source": [
    "classification3.count()  # 845266 too far away, 863727 not too far away, 434357 total users"
   ]
  },
  {
   "cell_type": "code",
   "execution_count": 19,
   "metadata": {
    "collapsed": true
   },
   "outputs": [],
   "source": [
    "def user_dist(user):\n",
    "    count_freq = collections.Counter()\n",
    "    count_nearest = collections.Counter()\n",
    "    for loc in user[1]:\n",
    "        near = loc['nearest']\n",
    "        freq = loc['most_freq']\n",
    "        count_freq[freq] += 1\n",
    "        count_nearest[near] += 1\n",
    "    return (user[0], count_freq, count_nearest)"
   ]
  },
  {
   "cell_type": "code",
   "execution_count": 20,
   "metadata": {
    "collapsed": true
   },
   "outputs": [],
   "source": [
    "user_distro = classification3.map(user_dist)"
   ]
  },
  {
   "cell_type": "code",
   "execution_count": 21,
   "metadata": {},
   "outputs": [
    {
     "data": {
      "text/plain": [
       "[(u'8940248df75fa221ec44f7bc2b71316a',\n",
       "  Counter({u'AUTOMOTIVE DEALERS': 1,\n",
       "           u'DANCE STUDIOS, SCHOOLS, AND HALLS': 1,\n",
       "           u'GENERAL WAREHOUSING AND STORAGE': 1,\n",
       "           u'OPTICAL GOODS STORES': 1,\n",
       "           u'RELIGIOUS ORGANIZATIONS': 1}),\n",
       "  Counter({u'Churches Baptist Independent': 1,\n",
       "           u'Dentist Oral Surgery': 1,\n",
       "           u'Dentists': 1,\n",
       "           u'Physicians & Surgeons Sclerotherapy': 1,\n",
       "           u'Warehouses Commodity & Merchandise': 1})),\n",
       " (u'449bef183516ff0b3fb6fd2cb1cfcd01',\n",
       "  Counter({'Too_Far_Away': 3}),\n",
       "  Counter({'Too_Far_Away': 3})),\n",
       " (u'f888d70cd2f09af040940aa1822978b8',\n",
       "  Counter({u'ELEMENTARY AND SECONDARY SCHOOLS': 1, 'Too_Far_Away': 1}),\n",
       "  Counter({u'Schools Public': 1, 'Too_Far_Away': 1})),\n",
       " (u'86b4e9d05dc7cab60488d7ee6f46b280',\n",
       "  Counter({u'RETAIL BAKERIES': 1, 'Too_Far_Away': 3}),\n",
       "  Counter({u'Physicians - General': 1, 'Too_Far_Away': 3})),\n",
       " (u'618ae825d187b1e633929e799c5f5c99',\n",
       "  Counter({u'HOUSEHOLD APPLIANCE STORES': 1}),\n",
       "  Counter({u'Churches Lutheran': 1})),\n",
       " (u'47de1918c0c5f7cbdf10cf8d1855409d',\n",
       "  Counter({u'ELECTRICAL AND ELECTRONIC REPAIR SHOPS': 1,\n",
       "           u'FUNCTIONS RELATED TO DEPOSITORY BANKING': 1,\n",
       "           u'GENERAL GOVERNMENT': 1,\n",
       "           u'OFFICES AND CLINICS OF DENTISTS': 1,\n",
       "           u'REFRIGERATION EQUIPMENT AND SUPPLIES': 1}),\n",
       "  Counter({u'Dentists': 1,\n",
       "           u'Estates Appraisal & Liquidation': 1,\n",
       "           u'Mobile Home Parks & Communities': 1,\n",
       "           u'Motorcycle & Motor Scooter Repair & Service': 1,\n",
       "           u'Water Coolers': 1})),\n",
       " (u'a7287f6e39ef4cbaa2469b6937cf3e45',\n",
       "  Counter({'Too_Far_Away': 2}),\n",
       "  Counter({'Too_Far_Away': 2})),\n",
       " (u'a454891a604f7106ba85ad57e096d6ce',\n",
       "  Counter({'Too_Far_Away': 2}),\n",
       "  Counter({'Too_Far_Away': 2})),\n",
       " (u'a436af86be586de2d7f2c9bdd02c9b36',\n",
       "  Counter({u'CHILD DAY CARE SERVICES': 1,\n",
       "           u'ROOFING, SIDING, AND SHEET METAL WORK': 1,\n",
       "           'Too_Far_Away': 6,\n",
       "           u'VARIETY STORES': 1}),\n",
       "  Counter({u'Building Metal': 1,\n",
       "           u'Real Estate - Apartments & Condominiums': 1,\n",
       "           u'Roofing Contractors': 1,\n",
       "           'Too_Far_Away': 6})),\n",
       " (u'72047d270ae2f55a7fc65492ff2907ae',\n",
       "  Counter({u'COMMUNICATIONS SERVICES': 1,\n",
       "           u'FUNCTIONS RELATED TO DEPOSITORY BANKING': 1,\n",
       "           u'OFFICES AND CLINICS OF DOCTORS OF MEDICINE': 1,\n",
       "           u'OPERATORS OF NONRESIDENTIAL BUILDINGS': 1,\n",
       "           u'RELIGIOUS ORGANIZATIONS': 1}),\n",
       "  Counter({u'Automobile Transporters & Drive Away Companies': 1,\n",
       "           u'Churches Baptist Southern': 1,\n",
       "           u'Gutters & Downspouts Retail': 1,\n",
       "           u'Physicians - Optometry & Opthalmology': 1,\n",
       "           u'Real Estate Commercial & Industrial': 1})),\n",
       " (u'551af3438b85bcb66ade54a10fe150e3',\n",
       "  Counter({u'ENGINEERING SERVICES': 1,\n",
       "           u'HOBBY, TOY, AND GAME SHOPS': 1,\n",
       "           u'OFFICES AND CLINICS OF DOCTORS OF MEDICINE': 1,\n",
       "           u'PHOTOGRAPHIC STUDIOS, PORTRAIT': 1,\n",
       "           u'ROOFING, SIDING, AND SHEET METAL WORK': 1}),\n",
       "  Counter({u'Apartments Unfurnished': 1,\n",
       "           u'Attorneys': 1,\n",
       "           u'Investment Bankers': 1,\n",
       "           u'Siding Contractors': 1,\n",
       "           u'Theaters Movie': 1})),\n",
       " (u'b139269e6d98f2dce2a48e62bfc3dbb8',\n",
       "  Counter({'Too_Far_Away': 7}),\n",
       "  Counter({'Too_Far_Away': 7})),\n",
       " (u'b9665f53bebbe5bb08a06b8240aa7098',\n",
       "  Counter({u'TELEPHONE COMMUNICATIONS, EXCEPT RADIOTELEPHONE': 1,\n",
       "           'Too_Far_Away': 2}),\n",
       "  Counter({u'Educational Consultants': 1, 'Too_Far_Away': 2})),\n",
       " (u'ef649db15fa261d90aa5d04e499080e4',\n",
       "  Counter({'Too_Far_Away': 2}),\n",
       "  Counter({'Too_Far_Away': 2})),\n",
       " (u'f2c86748fc88e9a08ecee0840c2d3f04',\n",
       "  Counter({u'OFFICES AND CLINICS OF DOCTORS OF MEDICINE': 1,\n",
       "           'Too_Far_Away': 5}),\n",
       "  Counter({u'Physicians & Surgeons Md Family & General Practice': 1,\n",
       "           'Too_Far_Away': 5})),\n",
       " (u'cdd79d08e36789da015394551ae503f1',\n",
       "  Counter({u'EATING PLACES': 1,\n",
       "           u'FUNCTIONS RELATED TO DEPOSITORY BANKING': 1}),\n",
       "  Counter({u'Associations': 1, u'Drug Stores': 1})),\n",
       " (u'b302e1cf40ee0d1f4fb197c5b3bea847',\n",
       "  Counter({'Too_Far_Away': 2}),\n",
       "  Counter({'Too_Far_Away': 2})),\n",
       " (u'bf2a8517509abe7f170830c9ac081bf1',\n",
       "  Counter({u'ACCOUNTING, AUDITING, AND BOOKKEEPING SERVICES': 1,\n",
       "           u'FUNCTIONS RELATED TO DEPOSITORY BANKING': 1,\n",
       "           u'SCHOOLS AND EDUCATIONAL SERVICES': 1,\n",
       "           'Too_Far_Away': 3}),\n",
       "  Counter({u'Kathe Kaul Estate Sales': 1,\n",
       "           u'Pest Control Services': 2,\n",
       "           'Too_Far_Away': 3})),\n",
       " (u'ae6f8c27a6fbde88241414090597c0e0',\n",
       "  Counter({u'CHILD DAY CARE SERVICES': 1,\n",
       "           u'ELEMENTARY AND SECONDARY SCHOOLS': 1,\n",
       "           u'OFFICES AND CLINICS OF DENTISTS': 1}),\n",
       "  Counter({u'Dentists': 1,\n",
       "           u'Pharmaceutical Products Wholesale & Manufacturers': 1,\n",
       "           u'Youth Organizations': 1})),\n",
       " (u'd2e38445ab0ec29545b90f95c6319d64',\n",
       "  Counter({u'MOTOR VEHICLE DEALERS (NEW AND USED)': 1,\n",
       "           u'OPERATORS OF APARTMENT BUILDINGS': 1,\n",
       "           u'RELIGIOUS ORGANIZATIONS': 2}),\n",
       "  Counter({u'Apartments Unfurnished': 1,\n",
       "           u'Automobile Dealers Used Cars': 1,\n",
       "           u'Grocers & Markets Retail': 1,\n",
       "           u'Heating & Ventilating Contractors': 1}))]"
      ]
     },
     "execution_count": 21,
     "metadata": {},
     "output_type": "execute_result"
    }
   ],
   "source": [
    "user_distro.take(20)"
   ]
  },
  {
   "cell_type": "code",
   "execution_count": 141,
   "metadata": {
    "collapsed": true
   },
   "outputs": [],
   "source": [
    "user = classification3.take(1)[0]"
   ]
  },
  {
   "cell_type": "code",
   "execution_count": 170,
   "metadata": {
    "collapsed": true
   },
   "outputs": [],
   "source": [
    "def too_far(user):\n",
    "    locations = user[1]\n",
    "    stuff = []\n",
    "    for location in locations:\n",
    "        if location['nearest'] == 'Too_Far_Away':\n",
    "            d = location['parts_of_day']\n",
    "            t = location['time_spent']\n",
    "            stuff.extend([d,t])\n",
    "    return (user[0], stuff)\n",
    "\n",
    "def too_far2(user):\n",
    "    locations = user[1]\n",
    "    parts_of_day = collections.Counter()\n",
    "    for location in locations:\n",
    "        if location['nearest'] == 'Too_Far_Away':\n",
    "            d = location['parts_of_day']\n",
    "            for b,f in d.items():\n",
    "                parts_of_day[b] += f\n",
    "    return (user[0], parts_of_day)"
   ]
  },
  {
   "cell_type": "code",
   "execution_count": 181,
   "metadata": {
    "collapsed": true
   },
   "outputs": [],
   "source": [
    "tf = classification3.map(too_far2).filter(lambda x: len(x[1]) > 0)\n",
    "def meh1(user):\n",
    "    d = user[]\n",
    "    od = collections.OrderedDict(sorted(d.items()))"
   ]
  },
  {
   "cell_type": "code",
   "execution_count": null,
   "metadata": {
    "collapsed": true
   },
   "outputs": [],
   "source": [
    "#-------------------NOTHING MORE TO SEE HERE, JUST MISC STUFF-------------------------"
   ]
  },
  {
   "cell_type": "code",
   "execution_count": null,
   "metadata": {
    "collapsed": true
   },
   "outputs": [],
   "source": []
  },
  {
   "cell_type": "code",
   "execution_count": null,
   "metadata": {
    "collapsed": true
   },
   "outputs": [],
   "source": []
  },
  {
   "cell_type": "code",
   "execution_count": null,
   "metadata": {
    "collapsed": true
   },
   "outputs": [],
   "source": []
  },
  {
   "cell_type": "code",
   "execution_count": null,
   "metadata": {
    "collapsed": true
   },
   "outputs": [],
   "source": []
  },
  {
   "cell_type": "code",
   "execution_count": null,
   "metadata": {
    "collapsed": true
   },
   "outputs": [],
   "source": []
  },
  {
   "cell_type": "code",
   "execution_count": null,
   "metadata": {
    "collapsed": true
   },
   "outputs": [],
   "source": []
  },
  {
   "cell_type": "code",
   "execution_count": null,
   "metadata": {
    "collapsed": true
   },
   "outputs": [],
   "source": []
  },
  {
   "cell_type": "code",
   "execution_count": null,
   "metadata": {
    "collapsed": true
   },
   "outputs": [],
   "source": []
  },
  {
   "cell_type": "code",
   "execution_count": null,
   "metadata": {
    "collapsed": true
   },
   "outputs": [],
   "source": []
  },
  {
   "cell_type": "code",
   "execution_count": null,
   "metadata": {
    "collapsed": true
   },
   "outputs": [],
   "source": []
  },
  {
   "cell_type": "code",
   "execution_count": 26,
   "metadata": {
    "collapsed": true
   },
   "outputs": [],
   "source": [
    "# zero_time = loc_cent.filter(lambda location: location[1][0]['properties']['time_spent'] == 0) # 128051\n",
    "# nonzero_time = loc_cent.filter(lambda location: location[1][0]['properties']['time_spent'] > 0) # 417258"
   ]
  },
  {
   "cell_type": "code",
   "execution_count": 132,
   "metadata": {},
   "outputs": [
    {
     "data": {
      "text/plain": [
       "Counter({'LineString': 34013, 'Point': 79873, 'Polygon': 303372})"
      ]
     },
     "execution_count": 132,
     "metadata": {},
     "output_type": "execute_result"
    }
   ],
   "source": [
    "# Distribution of shape types for locations with nonzero time_spent.\n",
    "shapes = collections.Counter()\n",
    "for location in nonzero_time.collect():\n",
    "    x = location[1][0]['geometry']['type']\n",
    "    shapes[x] += 1\n",
    "shapes\n",
    "# 'LineString': 34013, 'Point': 79873, 'Polygon': 303372"
   ]
  },
  {
   "cell_type": "code",
   "execution_count": 133,
   "metadata": {},
   "outputs": [
    {
     "data": {
      "text/plain": [
       "Counter({'LineString': 19258, 'Point': 36723, 'Polygon': 72070})"
      ]
     },
     "execution_count": 133,
     "metadata": {},
     "output_type": "execute_result"
    }
   ],
   "source": [
    "# Distribution of shape types for locations with zero time_spent.\n",
    "shapes = collections.Counter()\n",
    "for location in zero_time.collect():\n",
    "    x = location[1][0]['geometry']['type']\n",
    "    shapes[x] += 1\n",
    "shapes\n",
    "# 'LineString': 19258, 'Point': 36723, 'Polygon': 72070"
   ]
  },
  {
   "cell_type": "code",
   "execution_count": null,
   "metadata": {
    "collapsed": true
   },
   "outputs": [],
   "source": [
    "point1 = Point(50.67,4.62)\n",
    "point2 = Point(51.67, 4.64)\n",
    "import math\n",
    "# Euclidean Dustance\n",
    "def Euclidean_distance(point1,point2):\n",
    "     return math.sqrt((point2.x()-point1.x())**2 + (point2.y()-point1.y())**2)\n",
    "\n",
    "print Euclidean_distance(point1,point2)\n",
    "1.00019998 # distance in degrees (coordinates of the points in degrees)\n",
    "\n",
    "# with Shapely\n",
    "print point1.distance(point2)\n",
    "1.0001999800039989 #distance in degrees (coordinates of the points in degrees)"
   ]
  },
  {
   "cell_type": "code",
   "execution_count": 40,
   "metadata": {
    "collapsed": true
   },
   "outputs": [],
   "source": [
    "y = asShape(geometry['geometry'])\n",
    "y.contains(Point(0.5, 0.5))\n",
    "\n",
    "def close(poi, geometry):\n",
    "    poi_point = Point(poi[1][0])\n",
    "    y = asShape(geometry['geometry'])\n",
    "    return y.contains(poi_point)"
   ]
  },
  {
   "cell_type": "code",
   "execution_count": 39,
   "metadata": {
    "collapsed": true
   },
   "outputs": [],
   "source": [
    "# close_poi = kcmo_lines5.filter(lambda poi: close(poi, geometry))\n",
    "# close_poi.collect()"
   ]
  },
  {
   "cell_type": "code",
   "execution_count": null,
   "metadata": {
    "collapsed": true
   },
   "outputs": [],
   "source": []
  },
  {
   "cell_type": "code",
   "execution_count": null,
   "metadata": {
    "collapsed": true
   },
   "outputs": [],
   "source": []
  },
  {
   "cell_type": "code",
   "execution_count": null,
   "metadata": {
    "collapsed": true
   },
   "outputs": [],
   "source": []
  },
  {
   "cell_type": "code",
   "execution_count": null,
   "metadata": {
    "collapsed": true
   },
   "outputs": [],
   "source": []
  },
  {
   "cell_type": "code",
   "execution_count": null,
   "metadata": {
    "collapsed": true
   },
   "outputs": [],
   "source": []
  },
  {
   "cell_type": "code",
   "execution_count": null,
   "metadata": {
    "collapsed": true
   },
   "outputs": [],
   "source": []
  },
  {
   "cell_type": "code",
   "execution_count": 44,
   "metadata": {
    "collapsed": true
   },
   "outputs": [],
   "source": [
    "#[isinstance(l, int) for l in x]"
   ]
  },
  {
   "cell_type": "code",
   "execution_count": 46,
   "metadata": {
    "collapsed": true
   },
   "outputs": [],
   "source": [
    "# The only years that coincide with the first 4 digits of sic codes are 2011, 2013, and 2015.\n",
    "# Count the number of poi's that have any of these years in the first 4 digits of their sic codes.\n",
    "# Answer = 0.  Therefore, we may remove all 8 digit numbers that begin with years from 1980 - 2017 since\n",
    "# they don't correspond to sic codes, aside from 2011, 2013, and 2015, which aren't in the dataset anyway.\n",
    "rdd = kcmo_lines.map(find_all_8).filter(lambda x: any(j in x[0] for j in ['2011','2013','2015'])).count()"
   ]
  },
  {
   "cell_type": "code",
   "execution_count": 18,
   "metadata": {
    "collapsed": true
   },
   "outputs": [],
   "source": [
    "#indices = [i for i, x in enumerate(my_list) if x == 'whatever']"
   ]
  },
  {
   "cell_type": "code",
   "execution_count": 157,
   "metadata": {
    "collapsed": true
   },
   "outputs": [],
   "source": [
    "#poi_spark = kcmo_lines4.toDF()\n",
    "#poi = poi_spark.toPandas()\n",
    "#poi.columns = ['lat', 'long', 'type']\n",
    "#poi.head()"
   ]
  },
  {
   "cell_type": "code",
   "execution_count": 132,
   "metadata": {
    "collapsed": true
   },
   "outputs": [],
   "source": [
    "# See if there are any pois in which there are at least three codes beginning with any from range(2000,2018).\n",
    "# If not, then they are dates, not sic codes, and can be discarded\n",
    "thingsToCheck = [str(x) for x in range(2000,2018)]\n",
    "for blah in poi:\n",
    "    sum = 0\n",
    "    stuff = blah[1][2:] # The first two elements are lat/long\n",
    "    foo = []\n",
    "    for x in stuff:\n",
    "        if any(date in x for date in thingsToCheck):\n",
    "            sum += 1\n",
    "    if sum >= 3:\n",
    "        foo.append(sum)\n",
    "# foo is empty, so they are all dates.  They can be discarded."
   ]
  },
  {
   "cell_type": "code",
   "execution_count": 133,
   "metadata": {
    "collapsed": true
   },
   "outputs": [],
   "source": [
    "def sic_code_keep(place):\n",
    "    thingsToCheck = [str(x) for x in range(2000,2018)]\n",
    "    id = place[0]\n",
    "    stuff = place[1][3:]\n",
    "    lat_long_business = [(place[1][0], place[1][1]), place[1][2]]\n",
    "    for x in stuff:\n",
    "        if not any(date in x for date in thingsToCheck):\n",
    "            lat_long_business.append(x)\n",
    "    return (id, lat_long_business)"
   ]
  },
  {
   "cell_type": "code",
   "execution_count": 134,
   "metadata": {
    "collapsed": true
   },
   "outputs": [],
   "source": [
    "# Reverses the lat-long entries to match with those in locations data\n",
    "def reverse(place):\n",
    "    new_lat_long = [place[1][0][::-1]]\n",
    "    new_lat_long.extend(place[1][1:])\n",
    "    return (place[0], new_lat_long)"
   ]
  }
 ],
 "metadata": {
  "kernelspec": {
   "display_name": "Python 2",
   "language": "python",
   "name": "python2"
  },
  "language_info": {
   "codemirror_mode": {
    "name": "ipython",
    "version": 2
   },
   "file_extension": ".py",
   "mimetype": "text/x-python",
   "name": "python",
   "nbconvert_exporter": "python",
   "pygments_lexer": "ipython2",
   "version": "2.7.13"
  }
 },
 "nbformat": 4,
 "nbformat_minor": 2
}
